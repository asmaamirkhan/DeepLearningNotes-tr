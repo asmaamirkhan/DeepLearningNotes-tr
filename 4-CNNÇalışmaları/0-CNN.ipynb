{
  "nbformat": 4,
  "nbformat_minor": 0,
  "metadata": {
    "colab": {
      "name": "Untitled0.ipynb",
      "version": "0.3.2",
      "provenance": []
    },
    "kernelspec": {
      "name": "python3",
      "display_name": "Python 3"
    }
  },
  "cells": [
    {
      "cell_type": "code",
      "metadata": {
        "id": "wmFUTev4lxQe",
        "colab_type": "code",
        "colab": {}
      },
      "source": [
        "# author: Asmaa ~ 2019\n",
        "# ----------------------\n",
        "\n",
        "# import libraries\n",
        "import tensorflow as tf\n",
        "from tensorflow.keras.datasets import fashion_mnist\n",
        "from tensorflow.keras.layers import Conv2D, MaxPooling2D, Flatten, Dense"
      ],
      "execution_count": 0,
      "outputs": []
    },
    {
      "cell_type": "markdown",
      "metadata": {
        "id": "FBRgvBMRIVIW",
        "colab_type": "text"
      },
      "source": [
        "## Data Preparation\n"
      ]
    },
    {
      "cell_type": "code",
      "metadata": {
        "id": "ZsF8lCK8l39f",
        "colab_type": "code",
        "colab": {}
      },
      "source": [
        "# load dataset\n",
        "(training_images, training_labels), (test_images, test_labels) = fashion_mnist.load_data()\n",
        "\n",
        "# reshape the images to clearify the number of color channels\n",
        "training_images=training_images.reshape(60000, 28, 28, 1)\n",
        "test_images = test_images.reshape(10000, 28, 28, 1)\n",
        "\n",
        "# normalize images\n",
        "training_images=training_images / 255.0\n",
        "test_images=test_images / 255.0"
      ],
      "execution_count": 0,
      "outputs": []
    },
    {
      "cell_type": "markdown",
      "metadata": {
        "id": "pzWLOZ-JIfUh",
        "colab_type": "text"
      },
      "source": [
        "##Setting the Model"
      ]
    },
    {
      "cell_type": "code",
      "metadata": {
        "id": "hpfzSy6mmDLg",
        "colab_type": "code",
        "colab": {}
      },
      "source": [
        "# initialize the model\n",
        "model = tf.keras.models.Sequential()\n",
        "\n",
        "# add layers\n",
        "model.add(Conv2D(64, (3,3), activation='relu', input_shape=(28, 28, 1)))\n",
        "model.add(MaxPooling2D(2, 2))\n",
        "\n",
        "model.add(Conv2D(64, (3,3), activation='relu'))\n",
        "model.add(MaxPooling2D(2,2))\n",
        "\n",
        "model.add(Flatten())\n",
        "model.add(Dense(128, activation='relu'))\n",
        "model.add(Dense(10, activation='softmax'))\n",
        "\n",
        "\n",
        "# set functional properties\n",
        "model.compile(optimizer='adam', loss='sparse_categorical_crossentropy', metrics=['accuracy'])"
      ],
      "execution_count": 0,
      "outputs": []
    },
    {
      "cell_type": "markdown",
      "metadata": {
        "id": "W2wTzcudMMso",
        "colab_type": "text"
      },
      "source": [
        "### Getting info about NN "
      ]
    },
    {
      "cell_type": "code",
      "metadata": {
        "id": "LJKNA9PSqEoJ",
        "colab_type": "code",
        "colab": {
          "base_uri": "https://localhost:8080/",
          "height": 386
        },
        "outputId": "7e965e70-8a70-4b18-d78a-4dbde5e3bb76"
      },
      "source": [
        "# print summary about layers\n",
        "model.summary()"
      ],
      "execution_count": 26,
      "outputs": [
        {
          "output_type": "stream",
          "text": [
            "Model: \"sequential_12\"\n",
            "_________________________________________________________________\n",
            "Layer (type)                 Output Shape              Param #   \n",
            "=================================================================\n",
            "conv2d_18 (Conv2D)           (None, 26, 26, 64)        640       \n",
            "_________________________________________________________________\n",
            "max_pooling2d_18 (MaxPooling (None, 13, 13, 64)        0         \n",
            "_________________________________________________________________\n",
            "conv2d_19 (Conv2D)           (None, 11, 11, 64)        36928     \n",
            "_________________________________________________________________\n",
            "max_pooling2d_19 (MaxPooling (None, 5, 5, 64)          0         \n",
            "_________________________________________________________________\n",
            "flatten_9 (Flatten)          (None, 1600)              0         \n",
            "_________________________________________________________________\n",
            "dense_14 (Dense)             (None, 128)               204928    \n",
            "_________________________________________________________________\n",
            "dense_15 (Dense)             (None, 10)                1290      \n",
            "=================================================================\n",
            "Total params: 243,786\n",
            "Trainable params: 243,786\n",
            "Non-trainable params: 0\n",
            "_________________________________________________________________\n"
          ],
          "name": "stdout"
        }
      ]
    },
    {
      "cell_type": "code",
      "metadata": {
        "id": "uyGVoHgxmQgw",
        "colab_type": "code",
        "colab": {
          "base_uri": "https://localhost:8080/",
          "height": 202
        },
        "outputId": "368d587a-0e13-4695-a2f4-f0565ada3922"
      },
      "source": [
        "model.fit(training_images, training_labels, epochs=5)\n",
        "test_loss = model.evaluate(test_images, test_labels)"
      ],
      "execution_count": 27,
      "outputs": [
        {
          "output_type": "stream",
          "text": [
            "Epoch 1/5\n",
            "60000/60000 [==============================] - 80s 1ms/sample - loss: 0.4332 - acc: 0.8425\n",
            "Epoch 2/5\n",
            "60000/60000 [==============================] - 81s 1ms/sample - loss: 0.2934 - acc: 0.8931\n",
            "Epoch 3/5\n",
            "60000/60000 [==============================] - 80s 1ms/sample - loss: 0.2484 - acc: 0.9084\n",
            "Epoch 4/5\n",
            "60000/60000 [==============================] - 78s 1ms/sample - loss: 0.2170 - acc: 0.9184\n",
            "Epoch 5/5\n",
            "60000/60000 [==============================] - 81s 1ms/sample - loss: 0.1894 - acc: 0.9285\n",
            "10000/10000 [==============================] - 4s 378us/sample - loss: 0.2546 - acc: 0.9081\n"
          ],
          "name": "stdout"
        }
      ]
    }
  ]
}