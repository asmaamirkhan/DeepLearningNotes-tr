{
  "nbformat": 4,
  "nbformat_minor": 0,
  "metadata": {
    "colab": {
      "name": "0-HelloWorld.ipynb",
      "provenance": []
    },
    "kernelspec": {
      "name": "python3",
      "display_name": "Python 3"
    }
  },
  "cells": [
    {
      "cell_type": "markdown",
      "metadata": {
        "id": "jnUrQ6tMSPDa",
        "colab_type": "text"
      },
      "source": [
        "## 🚙 Importing libraries, data sets, required files and modules"
      ]
    },
    {
      "cell_type": "code",
      "metadata": {
        "id": "xtaTSyVpleMA",
        "colab_type": "code",
        "colab": {}
      },
      "source": [
        "# import required libraries\n",
        "from __future__ import absolute_import, division, print_function, unicode_literals # to use tf v2\n",
        "import tensorflow as tf\n",
        "\n",
        "from tensorflow.keras.layers import Flatten, Dense, Dropout\n",
        "from tensorflow.keras.models import Sequential"
      ],
      "execution_count": 0,
      "outputs": []
    },
    {
      "cell_type": "code",
      "metadata": {
        "id": "UlTLu9RsSOIo",
        "colab_type": "code",
        "colab": {}
      },
      "source": [
        "# import mnist dataset\n",
        "import tensorflow.keras.datasets.mnist as mnist"
      ],
      "execution_count": 0,
      "outputs": []
    },
    {
      "cell_type": "markdown",
      "metadata": {
        "id": "A5iDIWoXSheh",
        "colab_type": "text"
      },
      "source": [
        "## ⏬ Data Loading\n",
        "> 🎈 MNIST dataset is already splitted "
      ]
    },
    {
      "cell_type": "code",
      "metadata": {
        "id": "-iMRpqy_ls5N",
        "colab_type": "code",
        "colab": {}
      },
      "source": [
        "# load splitted mnist dataset\n",
        "(X_train, y_train), (X_test, y_test) = mnist.load_data()"
      ],
      "execution_count": 0,
      "outputs": []
    },
    {
      "cell_type": "markdown",
      "metadata": {
        "id": "y19FsoC5SxoC",
        "colab_type": "text"
      },
      "source": [
        "## 👩‍🔧 Data Preparation (pre-processing)"
      ]
    },
    {
      "cell_type": "code",
      "metadata": {
        "id": "TPY5roVJodbm",
        "colab_type": "code",
        "colab": {}
      },
      "source": [
        "# Apply data normalization for better performance\n",
        "# '.' is to keep values as floats\n",
        "X_train, X_test = X_train / 255., X_test / 255. "
      ],
      "execution_count": 0,
      "outputs": []
    },
    {
      "cell_type": "markdown",
      "metadata": {
        "id": "IvswVy7GVTZq",
        "colab_type": "text"
      },
      "source": [
        "## 👩‍💻 Model Designing"
      ]
    },
    {
      "cell_type": "markdown",
      "metadata": {
        "id": "0yQMlsO0WGyT",
        "colab_type": "text"
      },
      "source": [
        "### 🧱 Make layers design\n",
        "- Number of layers and number of units in each layer\n",
        "- Activation function of each layer"
      ]
    },
    {
      "cell_type": "code",
      "metadata": {
        "id": "y_MVpzdzR2e7",
        "colab_type": "code",
        "colab": {}
      },
      "source": [
        "layers = [\n",
        "          Flatten(input_shape = (28, 28)),\n",
        "          Dense(128, activation = 'relu'),\n",
        "          Dropout(0.2),\n",
        "          Dense(10, activation = 'softmax')\n",
        "]"
      ],
      "execution_count": 0,
      "outputs": []
    },
    {
      "cell_type": "markdown",
      "metadata": {
        "id": "2mHsAONTWnno",
        "colab_type": "text"
      },
      "source": [
        "### 🚀 Implement your design"
      ]
    },
    {
      "cell_type": "code",
      "metadata": {
        "id": "Xgj4v1WvWFiy",
        "colab_type": "code",
        "colab": {}
      },
      "source": [
        "# initialize the model\n",
        "model = Sequential(layers)\n",
        "\n",
        "# compile the model\n",
        "model.compile(optimizer='adam', loss=\"sparse_categorical_crossentropy\", metrics=['accuracy'])"
      ],
      "execution_count": 0,
      "outputs": []
    },
    {
      "cell_type": "markdown",
      "metadata": {
        "id": "xl7XyjAyXL1r",
        "colab_type": "text"
      },
      "source": [
        "## 🤓 Training\n",
        "- Keras .fit() [details](https://keras.io/models/model/#fit)"
      ]
    },
    {
      "cell_type": "code",
      "metadata": {
        "id": "gXnhGIKUWmgZ",
        "colab_type": "code",
        "colab": {
          "base_uri": "https://localhost:8080/",
          "height": 391
        },
        "outputId": "9a82f5b7-6aaf-4f7a-a72d-220a9ca92139"
      },
      "source": [
        "model.fit(X_train, y_train, epochs=10)"
      ],
      "execution_count": 27,
      "outputs": [
        {
          "output_type": "stream",
          "text": [
            "Train on 60000 samples\n",
            "Epoch 1/10\n",
            "60000/60000 [==============================] - 4s 72us/sample - loss: 0.2960 - acc: 0.9144\n",
            "Epoch 2/10\n",
            "60000/60000 [==============================] - 4s 71us/sample - loss: 0.1455 - acc: 0.9569\n",
            "Epoch 3/10\n",
            "60000/60000 [==============================] - 4s 70us/sample - loss: 0.1080 - acc: 0.9672\n",
            "Epoch 4/10\n",
            "60000/60000 [==============================] - 4s 70us/sample - loss: 0.0887 - acc: 0.9730\n",
            "Epoch 5/10\n",
            "60000/60000 [==============================] - 4s 70us/sample - loss: 0.0761 - acc: 0.9767\n",
            "Epoch 6/10\n",
            "60000/60000 [==============================] - 4s 69us/sample - loss: 0.0667 - acc: 0.9789\n",
            "Epoch 7/10\n",
            "60000/60000 [==============================] - 4s 69us/sample - loss: 0.0586 - acc: 0.9810\n",
            "Epoch 8/10\n",
            "60000/60000 [==============================] - 4s 70us/sample - loss: 0.0531 - acc: 0.9828\n",
            "Epoch 9/10\n",
            "60000/60000 [==============================] - 4s 70us/sample - loss: 0.0502 - acc: 0.9836\n",
            "Epoch 10/10\n",
            "60000/60000 [==============================] - 4s 70us/sample - loss: 0.0450 - acc: 0.9850\n"
          ],
          "name": "stdout"
        },
        {
          "output_type": "execute_result",
          "data": {
            "text/plain": [
              "<tensorflow.python.keras.callbacks.History at 0x7f5502360518>"
            ]
          },
          "metadata": {
            "tags": []
          },
          "execution_count": 27
        }
      ]
    },
    {
      "cell_type": "markdown",
      "metadata": {
        "id": "rULkHbarXbbT",
        "colab_type": "text"
      },
      "source": [
        "## 👮‍♀️ Evaluate the model\n",
        "- Keras .evaluate() [details](https://keras.io/models/model/#evaluate)"
      ]
    },
    {
      "cell_type": "code",
      "metadata": {
        "id": "HwTv2-TkXW8f",
        "colab_type": "code",
        "colab": {
          "base_uri": "https://localhost:8080/",
          "height": 68
        },
        "outputId": "b269957c-81b9-43fb-d319-200475d52887"
      },
      "source": [
        "evaluation = model.evaluate(X_test, y_test)\n",
        "print('Loss', evaluation[0])\n",
        "print('Accuracy', evaluation[1])"
      ],
      "execution_count": 33,
      "outputs": [
        {
          "output_type": "stream",
          "text": [
            "10000/10000 [==============================] - 0s 34us/sample - loss: 0.0783 - acc: 0.9786\n",
            "Loss 0.07832922506385366\n",
            "Accuracy 0.9786\n"
          ],
          "name": "stdout"
        }
      ]
    }
  ]
}