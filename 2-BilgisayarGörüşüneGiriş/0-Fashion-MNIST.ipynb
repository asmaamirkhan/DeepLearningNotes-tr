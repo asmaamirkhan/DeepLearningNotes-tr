{
  "nbformat": 4,
  "nbformat_minor": 0,
  "metadata": {
    "colab": {
      "name": "2FashionMNIST",
      "version": "0.3.2",
      "provenance": []
    },
    "kernelspec": {
      "name": "python3",
      "display_name": "Python 3"
    }
  },
  "cells": [
    {
      "cell_type": "code",
      "metadata": {
        "id": "hbYMJ68TxK2z",
        "colab_type": "code",
        "colab": {}
      },
      "source": [
        "# author: Asmaa ~ 2019\n",
        "# ----------------------\n",
        "\n",
        "# import libraries\n",
        "from tensorflow.keras.datasets import fashion_mnist\n",
        "from tensorflow.keras.models import Sequential\n",
        "from tensorflow.keras.layers import Dense, Flatten\n",
        "import matplotlib.pyplot as plt\n",
        "import tensorflow as tf"
      ],
      "execution_count": 0,
      "outputs": []
    },
    {
      "cell_type": "markdown",
      "metadata": {
        "id": "ZzSTCuzHz37E",
        "colab_type": "text"
      },
      "source": [
        "# Data Preparation"
      ]
    },
    {
      "cell_type": "markdown",
      "metadata": {
        "id": "pnON6R0hMuyi",
        "colab_type": "text"
      },
      "source": [
        "### Load the data"
      ]
    },
    {
      "cell_type": "code",
      "metadata": {
        "id": "9nlzpa02xwSw",
        "colab_type": "code",
        "colab": {
          "base_uri": "https://localhost:8080/",
          "height": 151
        },
        "outputId": "e9ba54c9-b0be-4860-ec50-a2b4c6c7ad15"
      },
      "source": [
        "# load data and assign it \n",
        "(training_images, training_labels), (test_images, test_labels) = fashion_mnist.load_data()"
      ],
      "execution_count": 6,
      "outputs": [
        {
          "output_type": "stream",
          "text": [
            "Downloading data from https://storage.googleapis.com/tensorflow/tf-keras-datasets/train-labels-idx1-ubyte.gz\n",
            "32768/29515 [=================================] - 0s 0us/step\n",
            "Downloading data from https://storage.googleapis.com/tensorflow/tf-keras-datasets/train-images-idx3-ubyte.gz\n",
            "26427392/26421880 [==============================] - 0s 0us/step\n",
            "Downloading data from https://storage.googleapis.com/tensorflow/tf-keras-datasets/t10k-labels-idx1-ubyte.gz\n",
            "8192/5148 [===============================================] - 0s 0us/step\n",
            "Downloading data from https://storage.googleapis.com/tensorflow/tf-keras-datasets/t10k-images-idx3-ubyte.gz\n",
            "4423680/4422102 [==============================] - 0s 0us/step\n"
          ],
          "name": "stdout"
        }
      ]
    },
    {
      "cell_type": "markdown",
      "metadata": {
        "id": "YGZTP0Vayo4d",
        "colab_type": "text"
      },
      "source": [
        "### Understand the data"
      ]
    },
    {
      "cell_type": "code",
      "metadata": {
        "id": "EfczuKlDyooo",
        "colab_type": "code",
        "colab": {
          "base_uri": "https://localhost:8080/",
          "height": 84
        },
        "outputId": "ea2f18aa-dc80-4097-fa4e-b54b8f32bccb"
      },
      "source": [
        "# print dimensions\n",
        "print('dimensions of training images:', training_images.shape)\n",
        "print('dimensions of training labels:', training_labels.shape)\n",
        "print('dimensions of test images:', test_images.shape)\n",
        "print('dimensions of test labels:', test_labels.shape)"
      ],
      "execution_count": 7,
      "outputs": [
        {
          "output_type": "stream",
          "text": [
            "dimensions of training images: (60000, 28, 28)\n",
            "dimensions of training labels: (60000,)\n",
            "dimensions of test images: (10000, 28, 28)\n",
            "dimensions of test labels: (10000,)\n"
          ],
          "name": "stdout"
        }
      ]
    },
    {
      "cell_type": "code",
      "metadata": {
        "id": "ctMLjsMxyGPn",
        "colab_type": "code",
        "colab": {
          "base_uri": "https://localhost:8080/",
          "height": 286
        },
        "outputId": "106d1da0-ef17-4097-9751-7f2d8e2bbc88"
      },
      "source": [
        "# visualize a sample of the data to understand better\n",
        "\n",
        "# show as an image\n",
        "plt.imshow(training_images[0])"
      ],
      "execution_count": 8,
      "outputs": [
        {
          "output_type": "execute_result",
          "data": {
            "text/plain": [
              "<matplotlib.image.AxesImage at 0x7f4f2ab45d30>"
            ]
          },
          "metadata": {
            "tags": []
          },
          "execution_count": 8
        },
        {
          "output_type": "display_data",
          "data": {
            "image/png": "[encoded data removed]",
            "text/plain": [
              "<Figure size 432x288 with 1 Axes>"
            ]
          },
          "metadata": {
            "tags": []
          }
        }
      ]
    },
    {
      "cell_type": "code",
      "metadata": {
        "id": "HPDfLXyTyOLw",
        "colab_type": "code",
        "colab": {
          "base_uri": "https://localhost:8080/",
          "height": 34
        },
        "outputId": "0e381d98-3446-4e3a-b137-8f489158ab2b"
      },
      "source": [
        "# show sample label\n",
        "print(training_labels[0])"
      ],
      "execution_count": 9,
      "outputs": [
        {
          "output_type": "stream",
          "text": [
            "9\n"
          ],
          "name": "stdout"
        }
      ]
    },
    {
      "cell_type": "code",
      "metadata": {
        "id": "uIrylT0-zjOT",
        "colab_type": "code",
        "colab": {
          "base_uri": "https://localhost:8080/",
          "height": 958
        },
        "outputId": "d02be387-c3cf-4f73-854a-65cc90c55599"
      },
      "source": [
        "# show image as pixels\n",
        "print(training_images[0])"
      ],
      "execution_count": 10,
      "outputs": [
        {
          "output_type": "stream",
          "text": [
            "[[  0   0   0   0   0   0   0   0   0   0   0   0   0   0   0   0   0   0\n",
            "    0   0   0   0   0   0   0   0   0   0]\n",
            " [  0   0   0   0   0   0   0   0   0   0   0   0   0   0   0   0   0   0\n",
            "    0   0   0   0   0   0   0   0   0   0]\n",
            " [  0   0   0   0   0   0   0   0   0   0   0   0   0   0   0   0   0   0\n",
            "    0   0   0   0   0   0   0   0   0   0]\n",
            " [  0   0   0   0   0   0   0   0   0   0   0   0   1   0   0  13  73   0\n",
            "    0   1   4   0   0   0   0   1   1   0]\n",
            " [  0   0   0   0   0   0   0   0   0   0   0   0   3   0  36 136 127  62\n",
            "   54   0   0   0   1   3   4   0   0   3]\n",
            " [  0   0   0   0   0   0   0   0   0   0   0   0   6   0 102 204 176 134\n",
            "  144 123  23   0   0   0   0  12  10   0]\n",
            " [  0   0   0   0   0   0   0   0   0   0   0   0   0   0 155 236 207 178\n",
            "  107 156 161 109  64  23  77 130  72  15]\n",
            " [  0   0   0   0   0   0   0   0   0   0   0   1   0  69 207 223 218 216\n",
            "  216 163 127 121 122 146 141  88 172  66]\n",
            " [  0   0   0   0   0   0   0   0   0   1   1   1   0 200 232 232 233 229\n",
            "  223 223 215 213 164 127 123 196 229   0]\n",
            " [  0   0   0   0   0   0   0   0   0   0   0   0   0 183 225 216 223 228\n",
            "  235 227 224 222 224 221 223 245 173   0]\n",
            " [  0   0   0   0   0   0   0   0   0   0   0   0   0 193 228 218 213 198\n",
            "  180 212 210 211 213 223 220 243 202   0]\n",
            " [  0   0   0   0   0   0   0   0   0   1   3   0  12 219 220 212 218 192\n",
            "  169 227 208 218 224 212 226 197 209  52]\n",
            " [  0   0   0   0   0   0   0   0   0   0   6   0  99 244 222 220 218 203\n",
            "  198 221 215 213 222 220 245 119 167  56]\n",
            " [  0   0   0   0   0   0   0   0   0   4   0   0  55 236 228 230 228 240\n",
            "  232 213 218 223 234 217 217 209  92   0]\n",
            " [  0   0   1   4   6   7   2   0   0   0   0   0 237 226 217 223 222 219\n",
            "  222 221 216 223 229 215 218 255  77   0]\n",
            " [  0   3   0   0   0   0   0   0   0  62 145 204 228 207 213 221 218 208\n",
            "  211 218 224 223 219 215 224 244 159   0]\n",
            " [  0   0   0   0  18  44  82 107 189 228 220 222 217 226 200 205 211 230\n",
            "  224 234 176 188 250 248 233 238 215   0]\n",
            " [  0  57 187 208 224 221 224 208 204 214 208 209 200 159 245 193 206 223\n",
            "  255 255 221 234 221 211 220 232 246   0]\n",
            " [  3 202 228 224 221 211 211 214 205 205 205 220 240  80 150 255 229 221\n",
            "  188 154 191 210 204 209 222 228 225   0]\n",
            " [ 98 233 198 210 222 229 229 234 249 220 194 215 217 241  65  73 106 117\n",
            "  168 219 221 215 217 223 223 224 229  29]\n",
            " [ 75 204 212 204 193 205 211 225 216 185 197 206 198 213 240 195 227 245\n",
            "  239 223 218 212 209 222 220 221 230  67]\n",
            " [ 48 203 183 194 213 197 185 190 194 192 202 214 219 221 220 236 225 216\n",
            "  199 206 186 181 177 172 181 205 206 115]\n",
            " [  0 122 219 193 179 171 183 196 204 210 213 207 211 210 200 196 194 191\n",
            "  195 191 198 192 176 156 167 177 210  92]\n",
            " [  0   0  74 189 212 191 175 172 175 181 185 188 189 188 193 198 204 209\n",
            "  210 210 211 188 188 194 192 216 170   0]\n",
            " [  2   0   0   0  66 200 222 237 239 242 246 243 244 221 220 193 191 179\n",
            "  182 182 181 176 166 168  99  58   0   0]\n",
            " [  0   0   0   0   0   0   0  40  61  44  72  41  35   0   0   0   0   0\n",
            "    0   0   0   0   0   0   0   0   0   0]\n",
            " [  0   0   0   0   0   0   0   0   0   0   0   0   0   0   0   0   0   0\n",
            "    0   0   0   0   0   0   0   0   0   0]\n",
            " [  0   0   0   0   0   0   0   0   0   0   0   0   0   0   0   0   0   0\n",
            "    0   0   0   0   0   0   0   0   0   0]]\n"
          ],
          "name": "stdout"
        }
      ]
    },
    {
      "cell_type": "code",
      "metadata": {
        "id": "AiMTOSoxznB0",
        "colab_type": "code",
        "colab": {}
      },
      "source": [
        "# for better performance we have to normalize the data so it will be between 0,1\n",
        "training_images  = training_images / 255.0\n",
        "test_images = test_images / 255.0"
      ],
      "execution_count": 0,
      "outputs": []
    },
    {
      "cell_type": "markdown",
      "metadata": {
        "id": "S1Dj4Kkaz-k0",
        "colab_type": "text"
      },
      "source": [
        "# Setting the network"
      ]
    },
    {
      "cell_type": "code",
      "metadata": {
        "id": "AASWbeHyzz82",
        "colab_type": "code",
        "colab": {}
      },
      "source": [
        "# initialize the model\n",
        "model = Sequential()\n",
        "\n",
        "# set the structure of the network\n",
        "\n",
        "# add input layer, 27*27 images will be flattened\n",
        "model.add(Flatten())\n",
        "\n",
        "# add a hidden layer with 128 units and set the activation function\n",
        "model.add(Dense(units = 128, activation = tf.nn.relu))\n",
        "\n",
        "# add output layer with 10 units (number of categories in fashion mnist) and set activation function\n",
        "model.add(Dense(units = 10, activation = tf.nn.softmax))\n",
        "\n",
        "# print number of layers\n",
        "print(len(model.layers))"
      ],
      "execution_count": 0,
      "outputs": []
    },
    {
      "cell_type": "code",
      "metadata": {
        "id": "6RLfeRfk11Yc",
        "colab_type": "code",
        "colab": {
          "base_uri": "https://localhost:8080/",
          "height": 370
        },
        "outputId": "3886929b-babc-4e3f-e4a6-be899125c0b7"
      },
      "source": [
        "# set functional properties\n",
        "model.compile(optimizer = tf.train.AdamOptimizer(), loss = 'sparse_categorical_crossentropy', metrics=['accuracy'])\n",
        "\n",
        "# start training\n",
        "model.fit(training_images, training_labels, epochs=10)"
      ],
      "execution_count": 13,
      "outputs": [
        {
          "output_type": "stream",
          "text": [
            "Epoch 1/10\n",
            "60000/60000 [==============================] - 4s 73us/sample - loss: 0.4997 - acc: 0.8247\n",
            "Epoch 2/10\n",
            "60000/60000 [==============================] - 4s 67us/sample - loss: 0.3765 - acc: 0.8644\n",
            "Epoch 3/10\n",
            "60000/60000 [==============================] - 4s 67us/sample - loss: 0.3369 - acc: 0.8764\n",
            "Epoch 4/10\n",
            "60000/60000 [==============================] - 4s 66us/sample - loss: 0.3132 - acc: 0.8853\n",
            "Epoch 5/10\n",
            "60000/60000 [==============================] - 4s 67us/sample - loss: 0.2935 - acc: 0.8922\n",
            "Epoch 6/10\n",
            "60000/60000 [==============================] - 4s 67us/sample - loss: 0.2790 - acc: 0.8967\n",
            "Epoch 7/10\n",
            "60000/60000 [==============================] - 4s 67us/sample - loss: 0.2680 - acc: 0.8997\n",
            "Epoch 8/10\n",
            "60000/60000 [==============================] - 4s 67us/sample - loss: 0.2562 - acc: 0.9042\n",
            "Epoch 9/10\n",
            "60000/60000 [==============================] - 4s 66us/sample - loss: 0.2476 - acc: 0.9074\n",
            "Epoch 10/10\n",
            "60000/60000 [==============================] - 4s 67us/sample - loss: 0.2376 - acc: 0.9118\n"
          ],
          "name": "stdout"
        },
        {
          "output_type": "execute_result",
          "data": {
            "text/plain": [
              "<tensorflow.python.keras.callbacks.History at 0x7f4f2ab2a828>"
            ]
          },
          "metadata": {
            "tags": []
          },
          "execution_count": 13
        }
      ]
    },
    {
      "cell_type": "code",
      "metadata": {
        "id": "afgv5T9H4vN-",
        "colab_type": "code",
        "colab": {
          "base_uri": "https://localhost:8080/",
          "height": 50
        },
        "outputId": "d170138c-d828-474b-fbb8-22269bd7fe64"
      },
      "source": [
        "# check model accuracy on test set\n",
        "model.evaluate(test_images, test_labels)"
      ],
      "execution_count": 14,
      "outputs": [
        {
          "output_type": "stream",
          "text": [
            "10000/10000 [==============================] - 0s 34us/sample - loss: 0.3376 - acc: 0.8780\n"
          ],
          "name": "stdout"
        },
        {
          "output_type": "execute_result",
          "data": {
            "text/plain": [
              "[0.33758308206796644, 0.878]"
            ]
          },
          "metadata": {
            "tags": []
          },
          "execution_count": 14
        }
      ]
    },
    {
      "cell_type": "markdown",
      "metadata": {
        "id": "2sbqUPMlDUeq",
        "colab_type": "text"
      },
      "source": [
        "# Stopping training due to accuracy value by Callbacks\n"
      ]
    },
    {
      "cell_type": "code",
      "metadata": {
        "id": "BCD0mJjQDbeR",
        "colab_type": "code",
        "colab": {}
      },
      "source": [
        "class fashionCallback(tf.keras.callbacks.Callback):\n",
        "  # when to stop? it is better to stop at the end of an epoch\n",
        "  def on_epoch_end(self, epoch, logs={}):\n",
        "    # this function has access to the log\n",
        "    if(logs.get('acc') > 0.95):\n",
        "      print('\\nReached 0.95 accuracy so stop training!')\n",
        "      self.model.stop_training = True"
      ],
      "execution_count": 0,
      "outputs": []
    },
    {
      "cell_type": "code",
      "metadata": {
        "id": "I1Ar78pkD_JC",
        "colab_type": "code",
        "colab": {
          "base_uri": "https://localhost:8080/",
          "height": 840
        },
        "outputId": "2701111f-1a64-4421-add0-0fd6a9402acf"
      },
      "source": [
        "# intialize a callback object\n",
        "callback = fashionCallback()\n",
        "\n",
        "# retrain the model\n",
        "# epochs = max epochs\n",
        "model.fit(training_images, training_labels, epochs=100, callbacks=[callback])"
      ],
      "execution_count": 16,
      "outputs": [
        {
          "output_type": "stream",
          "text": [
            "Epoch 1/100\n",
            "60000/60000 [==============================] - 4s 67us/sample - loss: 0.2318 - acc: 0.9124\n",
            "Epoch 2/100\n",
            "60000/60000 [==============================] - 4s 64us/sample - loss: 0.2219 - acc: 0.9171\n",
            "Epoch 3/100\n",
            "60000/60000 [==============================] - 4s 61us/sample - loss: 0.2175 - acc: 0.9183\n",
            "Epoch 4/100\n",
            "60000/60000 [==============================] - 4s 61us/sample - loss: 0.2115 - acc: 0.9206\n",
            "Epoch 5/100\n",
            "60000/60000 [==============================] - 4s 62us/sample - loss: 0.2034 - acc: 0.9242\n",
            "Epoch 6/100\n",
            "60000/60000 [==============================] - 4s 60us/sample - loss: 0.1979 - acc: 0.9258\n",
            "Epoch 7/100\n",
            "60000/60000 [==============================] - 4s 61us/sample - loss: 0.1928 - acc: 0.9277\n",
            "Epoch 8/100\n",
            "60000/60000 [==============================] - 4s 61us/sample - loss: 0.1896 - acc: 0.9286\n",
            "Epoch 9/100\n",
            "60000/60000 [==============================] - 4s 66us/sample - loss: 0.1846 - acc: 0.9313\n",
            "Epoch 10/100\n",
            "60000/60000 [==============================] - 4s 67us/sample - loss: 0.1792 - acc: 0.9335\n",
            "Epoch 11/100\n",
            "60000/60000 [==============================] - 4s 66us/sample - loss: 0.1735 - acc: 0.9349\n",
            "Epoch 12/100\n",
            "60000/60000 [==============================] - 4s 65us/sample - loss: 0.1677 - acc: 0.9360\n",
            "Epoch 13/100\n",
            "60000/60000 [==============================] - 4s 66us/sample - loss: 0.1666 - acc: 0.9378\n",
            "Epoch 14/100\n",
            "60000/60000 [==============================] - 4s 66us/sample - loss: 0.1619 - acc: 0.9394\n",
            "Epoch 15/100\n",
            "60000/60000 [==============================] - 4s 66us/sample - loss: 0.1591 - acc: 0.9414\n",
            "Epoch 16/100\n",
            "60000/60000 [==============================] - 4s 66us/sample - loss: 0.1560 - acc: 0.9418\n",
            "Epoch 17/100\n",
            "60000/60000 [==============================] - 4s 65us/sample - loss: 0.1532 - acc: 0.9438\n",
            "Epoch 18/100\n",
            "60000/60000 [==============================] - 4s 66us/sample - loss: 0.1482 - acc: 0.9450\n",
            "Epoch 19/100\n",
            "60000/60000 [==============================] - 4s 66us/sample - loss: 0.1470 - acc: 0.9448\n",
            "Epoch 20/100\n",
            "60000/60000 [==============================] - 4s 65us/sample - loss: 0.1409 - acc: 0.9470\n",
            "Epoch 21/100\n",
            "60000/60000 [==============================] - 4s 65us/sample - loss: 0.1401 - acc: 0.9478\n",
            "Epoch 22/100\n",
            "60000/60000 [==============================] - 4s 65us/sample - loss: 0.1360 - acc: 0.9491\n",
            "Epoch 23/100\n",
            "59328/60000 [============================>.] - ETA: 0s - loss: 0.1313 - acc: 0.9519\n",
            "Reached 0.95 accuracy so stop training!\n",
            "60000/60000 [==============================] - 4s 65us/sample - loss: 0.1313 - acc: 0.9520\n"
          ],
          "name": "stdout"
        },
        {
          "output_type": "execute_result",
          "data": {
            "text/plain": [
              "<tensorflow.python.keras.callbacks.History at 0x7f4f22fee198>"
            ]
          },
          "metadata": {
            "tags": []
          },
          "execution_count": 16
        }
      ]
    }
  ]
}