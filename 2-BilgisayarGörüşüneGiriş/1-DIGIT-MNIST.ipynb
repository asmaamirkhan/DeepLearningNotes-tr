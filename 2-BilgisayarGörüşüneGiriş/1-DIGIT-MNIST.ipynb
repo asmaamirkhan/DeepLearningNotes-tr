{
  "nbformat": 4,
  "nbformat_minor": 0,
  "metadata": {
    "colab": {
      "name": "21DigitsMNIST.ipynb",
      "version": "0.3.2",
      "provenance": []
    },
    "kernelspec": {
      "name": "python3",
      "display_name": "Python 3"
    }
  },
  "cells": [
    {
      "cell_type": "code",
      "metadata": {
        "id": "S390KkNDQK7g",
        "colab_type": "code",
        "colab": {}
      },
      "source": [
        "# author: Asmaa ~ 2019\n",
        "# ----------------------\n",
        "\n",
        "# import libraries\n",
        "from tensorflow.keras.datasets import mnist\n",
        "from tensorflow.keras.models import Sequential\n",
        "from tensorflow.keras.layers import Dense, Flatten\n",
        "import matplotlib.pyplot as plt\n",
        "import tensorflow as tf"
      ],
      "execution_count": 0,
      "outputs": []
    },
    {
      "cell_type": "code",
      "metadata": {
        "id": "OzCV_NgjQU0p",
        "colab_type": "code",
        "colab": {}
      },
      "source": [
        "class mnistCallback(tf.keras.callbacks.Callback):\n",
        "  def on_epoch_end(self, epoch, logs={}):\n",
        "    if(logs.get('acc') > 0.98):\n",
        "      print('\\nReached 0.98 accuracy so stop training!')\n",
        "      self.model.stop_training = True"
      ],
      "execution_count": 0,
      "outputs": []
    },
    {
      "cell_type": "code",
      "metadata": {
        "id": "CATz1sdQQkpK",
        "colab_type": "code",
        "colab": {}
      },
      "source": [
        "# load data and assign it \n",
        "(training_images, training_labels), (test_images, test_labels) = mnist.load_data()"
      ],
      "execution_count": 0,
      "outputs": []
    },
    {
      "cell_type": "code",
      "metadata": {
        "id": "7cdJMhb1QpE-",
        "colab_type": "code",
        "colab": {
          "base_uri": "https://localhost:8080/",
          "height": 84
        },
        "outputId": "ea881a38-68d2-4e54-d1f2-e3b042b08fbd"
      },
      "source": [
        "# get info about data\n",
        "print('dimensions of training images:', training_images.shape)\n",
        "print('dimensions of training labels:', training_labels.shape)\n",
        "print('dimensions of test images:', test_images.shape)\n",
        "print('dimensions of test labels:', test_labels.shape)"
      ],
      "execution_count": 4,
      "outputs": [
        {
          "output_type": "stream",
          "text": [
            "dimensions of training images: (60000, 28, 28)\n",
            "dimensions of training labels: (60000,)\n",
            "dimensions of test images: (10000, 28, 28)\n",
            "dimensions of test labels: (10000,)\n"
          ],
          "name": "stdout"
        }
      ]
    },
    {
      "cell_type": "code",
      "metadata": {
        "id": "XJwHkj8MQt2v",
        "colab_type": "code",
        "colab": {
          "base_uri": "https://localhost:8080/",
          "height": 286
        },
        "outputId": "020829cb-6b60-4fe1-d139-c21dc9ca3cf5"
      },
      "source": [
        "# visualize a sample of the data to understand better\n",
        "\n",
        "# show as an image\n",
        "plt.imshow(training_images[0])"
      ],
      "execution_count": 5,
      "outputs": [
        {
          "output_type": "execute_result",
          "data": {
            "text/plain": [
              "<matplotlib.image.AxesImage at 0x7f673deae978>"
            ]
          },
          "metadata": {
            "tags": []
          },
          "execution_count": 5
        },
        {
          "output_type": "display_data",
          "data": {
            "image/png": "[encoded data removed]",
            "text/plain": [
              "<Figure size 432x288 with 1 Axes>"
            ]
          },
          "metadata": {
            "tags": []
          }
        }
      ]
    },
    {
      "cell_type": "code",
      "metadata": {
        "id": "HbVQdayPR5JW",
        "colab_type": "code",
        "colab": {}
      },
      "source": [
        "# data normalization\n",
        "training_images  = training_images / 255.0\n",
        "test_images = test_images / 255.0"
      ],
      "execution_count": 0,
      "outputs": []
    },
    {
      "cell_type": "code",
      "metadata": {
        "id": "IJ5JkKMbQxdI",
        "colab_type": "code",
        "colab": {
          "base_uri": "https://localhost:8080/",
          "height": 104
        },
        "outputId": "9ea21bd5-48bc-42c0-8f57-bfdf50acce07"
      },
      "source": [
        "# intialize a callback object\n",
        "callback = mnistCallback()\n",
        "\n",
        "# initialize the model\n",
        "model = Sequential()\n",
        "\n",
        "# set the structure of the network\n",
        "\n",
        "# add input layer, 27*27 images will be flattened\n",
        "model.add(Flatten())\n",
        "\n",
        "# add a hidden layer with 128 units and set the activation function\n",
        "model.add(Dense(units = 128, activation = tf.nn.relu))\n",
        "\n",
        "# add output layer with 10 units (number of categories in fashion mnist) and set activation function\n",
        "model.add(Dense(units = 10, activation = tf.nn.softmax))\n",
        "\n",
        "# set functional properties\n",
        "model.compile(optimizer = 'adam', loss = 'sparse_categorical_crossentropy', metrics=['accuracy'])"
      ],
      "execution_count": 7,
      "outputs": [
        {
          "output_type": "stream",
          "text": [
            "WARNING: Logging before flag parsing goes to stderr.\n",
            "W0808 12:54:11.439963 140082358904704 deprecation.py:506] From /usr/local/lib/python3.6/dist-packages/tensorflow/python/ops/init_ops.py:1251: calling VarianceScaling.__init__ (from tensorflow.python.ops.init_ops) with dtype is deprecated and will be removed in a future version.\n",
            "Instructions for updating:\n",
            "Call initializer instance with the dtype argument instead of passing it to the constructor\n"
          ],
          "name": "stderr"
        }
      ]
    },
    {
      "cell_type": "code",
      "metadata": {
        "id": "A6QNxc3ORMWy",
        "colab_type": "code",
        "colab": {
          "base_uri": "https://localhost:8080/",
          "height": 202
        },
        "outputId": "1bcc2f03-c8d6-4c80-fb19-6c3ab749f7f8"
      },
      "source": [
        "# start training\n",
        "model.fit(training_images, training_labels, epochs=100, callbacks=[callback])"
      ],
      "execution_count": 8,
      "outputs": [
        {
          "output_type": "stream",
          "text": [
            "Epoch 1/100\n",
            "60000/60000 [==============================] - 4s 69us/sample - loss: 0.2582 - acc: 0.9263\n",
            "Epoch 2/100\n",
            "60000/60000 [==============================] - 4s 69us/sample - loss: 0.1150 - acc: 0.9665\n",
            "Epoch 3/100\n",
            "60000/60000 [==============================] - 4s 68us/sample - loss: 0.0793 - acc: 0.9758\n",
            "Epoch 4/100\n",
            "59520/60000 [============================>.] - ETA: 0s - loss: 0.0590 - acc: 0.9816\n",
            "Reached 0.98 accuracy so stop training!\n",
            "60000/60000 [==============================] - 4s 68us/sample - loss: 0.0591 - acc: 0.9816\n"
          ],
          "name": "stdout"
        },
        {
          "output_type": "execute_result",
          "data": {
            "text/plain": [
              "<tensorflow.python.keras.callbacks.History at 0x7f673add0080>"
            ]
          },
          "metadata": {
            "tags": []
          },
          "execution_count": 8
        }
      ]
    },
    {
      "cell_type": "code",
      "metadata": {
        "id": "wjQcN9ZgRRHj",
        "colab_type": "code",
        "colab": {
          "base_uri": "https://localhost:8080/",
          "height": 50
        },
        "outputId": "401529ef-b9dc-4124-b026-4cf30fc96c9b"
      },
      "source": [
        "# evaluate the model\n",
        "model.evaluate(test_images, test_labels)"
      ],
      "execution_count": 9,
      "outputs": [
        {
          "output_type": "stream",
          "text": [
            "10000/10000 [==============================] - 0s 33us/sample - loss: 0.0840 - acc: 0.9763\n"
          ],
          "name": "stdout"
        },
        {
          "output_type": "execute_result",
          "data": {
            "text/plain": [
              "[0.083970616981294, 0.9763]"
            ]
          },
          "metadata": {
            "tags": []
          },
          "execution_count": 9
        }
      ]
    },
    {
      "cell_type": "code",
      "metadata": {
        "id": "2sfHlqryTDb5",
        "colab_type": "code",
        "colab": {}
      },
      "source": [
        ""
      ],
      "execution_count": 0,
      "outputs": []
    }
  ]
}