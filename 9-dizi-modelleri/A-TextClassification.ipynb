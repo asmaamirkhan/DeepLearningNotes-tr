{
  "nbformat": 4,
  "nbformat_minor": 0,
  "metadata": {
    "colab": {
      "name": "2-TXTClassification.ipynb",
      "provenance": []
    },
    "kernelspec": {
      "name": "python3",
      "display_name": "Python 3"
    }
  },
  "cells": [
    {
      "cell_type": "markdown",
      "metadata": {
        "id": "ZYTtiIwLVFKS",
        "colab_type": "text"
      },
      "source": [
        "# 💬 Basic Text Classification\n",
        "## 🚙 Importing libraries, data sets, required files and modules"
      ]
    },
    {
      "cell_type": "code",
      "metadata": {
        "id": "X8GBADacoBi9",
        "colab_type": "code",
        "colab": {}
      },
      "source": [
        "import tensorflow as tf\n",
        "tf.enable_eager_execution()\n",
        "import numpy as np\n",
        "import tensorflow_hub as tfhub\n",
        "import tensorflow_datasets as tfds\n",
        "from tensorflow.keras.layers import Dense\n",
        "from tensorflow.keras.models import Sequential"
      ],
      "execution_count": 0,
      "outputs": []
    },
    {
      "cell_type": "markdown",
      "metadata": {
        "id": "07hH7HzdbHPT",
        "colab_type": "text"
      },
      "source": [
        "## ⏬ Data Loading\n",
        "> 🎈 For datset [details](https://www.tensorflow.org/datasets/catalog/imdb_reviews)"
      ]
    },
    {
      "cell_type": "code",
      "metadata": {
        "id": "NeQvA1czapzS",
        "colab_type": "code",
        "colab": {}
      },
      "source": [
        "train_val_split_ratio = tfds.Split.TRAIN.subsplit([6, 4])"
      ],
      "execution_count": 0,
      "outputs": []
    },
    {
      "cell_type": "code",
      "metadata": {
        "id": "AzLwvR68eE11",
        "colab_type": "code",
        "colab": {}
      },
      "source": [
        "(train, val), test = tfds.load(\n",
        "    name = 'imdb_reviews',\n",
        "    split = (train_val_split_ratio, tfds.Split.TEST),\n",
        "    as_supervised = True\n",
        ") "
      ],
      "execution_count": 0,
      "outputs": []
    },
    {
      "cell_type": "markdown",
      "metadata": {
        "id": "eRKKnNSRezgL",
        "colab_type": "text"
      },
      "source": [
        "### 🕵️‍♀️ Understand the data"
      ]
    },
    {
      "cell_type": "code",
      "metadata": {
        "id": "K9F87ooIepk_",
        "colab_type": "code",
        "colab": {}
      },
      "source": [
        "train_examples, train_labels = next(iter(train.batch(10)))"
      ],
      "execution_count": 0,
      "outputs": []
    },
    {
      "cell_type": "code",
      "metadata": {
        "id": "umzuVuwOf73Q",
        "colab_type": "code",
        "colab": {
          "base_uri": "https://localhost:8080/",
          "height": 241
        },
        "outputId": "9ad0d575-8b8e-4650-f49e-6d20d4869b3b"
      },
      "source": [
        "train_examples"
      ],
      "execution_count": 10,
      "outputs": [
        {
          "output_type": "execute_result",
          "data": {
            "text/plain": [
              "<tf.Tensor: id=459, shape=(10,), dtype=string, numpy=\n",
              "array([b\"As a lifelong fan of Dickens, I have invariably been disappointed by adaptations of his novels.<br /><br />Although his works presented an extremely accurate re-telling of human life at every level in Victorian Britain, throughout them all was a pervasive thread of humour that could be both playful or sarcastic as the narrative dictated. In a way, he was a literary caricaturist and cartoonist. He could be serious and hilarious in the same sentence. He pricked pride, lampooned arrogance, celebrated modesty, and empathised with loneliness and poverty. It may be a clich\\xc3\\xa9, but he was a people's writer.<br /><br />And it is the comedy that is so often missing from his interpretations. At the time of writing, Oliver Twist is being dramatised in serial form on BBC television. All of the misery and cruelty is their, but non of the humour, irony, and savage lampoonery. The result is just a dark, dismal experience: the story penned by a journalist rather than a novelist. It's not really Dickens at all.<br /><br />'Oliver!', on the other hand, is much closer to the mark. The mockery of officialdom is perfectly interpreted, from the blustering beadle to the drunken magistrate. The classic stand-off between the beadle and Mr Brownlow, in which the law is described as 'a ass, a idiot' couldn't have been better done. Harry Secombe is an ideal choice.<br /><br />But the blinding cruelty is also there, the callous indifference of the state, the cold, hunger, poverty and loneliness are all presented just as surely as The Master would have wished.<br /><br />And then there is crime. Ron Moody is a treasure as the sleazy Jewish fence, whilst Oliver Reid has Bill Sykes to perfection.<br /><br />Perhaps not surprisingly, Lionel Bart - himself a Jew from London's east-end - takes a liberty with Fagin by re-interpreting him as a much more benign fellow than was Dicken's original. In the novel, he was utterly ruthless, sending some of his own boys to the gallows in order to protect himself (though he was also caught and hanged). Whereas in the movie, he is presented as something of a wayward father-figure, a sort of charitable thief rather than a corrupter of children, the latter being a long-standing anti-semitic sentiment. Otherwise, very few liberties are taken with Dickens's original. All of the most memorable elements are included. Just enough menace and violence is retained to ensure narrative fidelity whilst at the same time allowing for children' sensibilities. Nancy is still beaten to death, Bullseye narrowly escapes drowning, and Bill Sykes gets a faithfully graphic come-uppance.<br /><br />Every song is excellent, though they do incline towards schmaltz. Mark Lester mimes his wonderfully. Both his and my favourite scene is the one in which the world comes alive to 'who will buy'. It's schmaltzy, but it's Dickens through and through.<br /><br />I could go on. I could commend the wonderful set-pieces, the contrast of the rich and poor. There is top-quality acting from more British regulars than you could shake a stick at.<br /><br />I ought to give it 10 points, but I'm feeling more like Scrooge today. Soak it up with your Christmas dinner. No original has been better realised.\",\n",
              "       b\"Oh yeah! Jenna Jameson did it again! Yeah Baby! This movie rocks. It was one of the 1st movies i saw of her. And i have to say i feel in love with her, she was great in this move.<br /><br />Her performance was outstanding and what i liked the most was the scenery and the wardrobe it was amazing you can tell that they put a lot into the movie the girls cloth were amazing.<br /><br />I hope this comment helps and u can buy the movie, the storyline is awesome is very unique and i'm sure u are going to like it. Jenna amazed us once more and no wonder the movie won so many awards. Her make-up and wardrobe is very very sexy and the girls on girls scene is amazing. specially the one where she looks like an angel. It's a must see and i hope u share my interests\",\n",
              "       b\"I saw this film on True Movies (which automatically made me sceptical) but actually - it was good. Why? Not because of the amazing plot twists or breathtaking dialogue (of which there is little) but because actually, despite what people say I thought the film was accurate in it's depiction of teenagers dealing with pregnancy.<br /><br />It's NOT Dawson's Creek, they're not graceful, cool witty characters who breeze through sexuality with effortless knowledge. They're kids and they act like kids would. <br /><br />They're blunt, awkward and annoyingly confused about everything. Yes, this could be by accident and they could just be bad actors but I don't think so. Dermot Mulroney gives (when not trying to be cool) a very believable performance and I loved him for it. Patricia Arquette IS whiny and annoying, but she was pregnant and a teenagers? The combination of the two isn't exactly lavender on your pillow. The plot was VERY predictable and but so what? I believed them, his stress and inability to cope - her brave, yet slightly misguided attempts to bring them closer together. I think the characters, acted by anyone else, WOULD indeed have been annoying and unbelievable but they weren't. It reflects the surreality of the situation they're in, that he's sitting in class and she walks on campus with the baby. I felt angry at her for that, I felt angry at him for being such a child and for blaming her. I felt it all.<br /><br />In the end, I loved it and would recommend it.<br /><br />Watch out for the scene where Dermot Mulroney runs from the disastrous counselling session - career performance.\",\n",
              "       b'This was a wonderfully clever and entertaining movie that I shall never tire of watching many, many times. The casting was magnificent in matching up the young with the older characters. There are those of us out here who really do appreciate good actors and an intelligent story format. As for Judi Dench, she is beautiful and a gift to any kind of production in which she stars. I always make a point to see Judi Dench in all her performances. She is a superb actress and a pleasure to watch as each transformation of her character comes to life. I can only be grateful when I see such an outstanding picture for most of the motion pictures made more recently lack good characters, good scripts and good acting. The movie public needs heroes, not deviant manikins, who lack ingenuity and talent. How wonderful to see old favorites like Leslie Caron, Olympia Dukakis and Cleo Laine. I would like to see this movie win the awards it deserves. Thank you again for a tremendous night of entertainment. I congratulate the writer, director, producer, and all those who did such a fine job.',\n",
              "       b'I have no idea what the other reviewer is talking about- this was a wonderful movie, and created a sense of the era that feels like time travel. The characters are truly young, Mary is a strong match for Byron, Claire is juvenile and a tad annoying, Polidori is a convincing beaten-down sycophant... all are beautiful, curious, and decadent... not the frightening wrecks they are in Gothic.<br /><br />Gothic works as an independent piece of shock film, and I loved it for different reasons, but this works like a Merchant and Ivory film, and was from my readings the best capture of what the summer must have felt like. Romantic, yes, but completely rekindles my interest in the lives of Shelley and Byron every time I think about the film. One of my all-time favorites.',\n",
              "       b\"This was soul-provoking! I am an Iranian, and living in th 21st century, I didn't know that such big tribes have been living in such conditions at the time of my grandfather!<br /><br />You see that today, or even in 1925, on one side of the world a lady or a baby could have everything served for him or her clean and on-demand, but here 80 years ago, people ventured their life to go to somewhere with more grass. It's really interesting that these Persians bear those difficulties to find pasture for their sheep, but they lose many the sheep on their way.<br /><br />I praise the Americans who accompanied this tribe, they were as tough as Bakhtiari people.\",\n",
              "       b'Just because someone is under the age of 10 does not mean they are stupid. If your child likes this film you\\'d better have him/her tested. I am continually amazed at how so many people can be involved in something that turns out so bad. This \"film\" is a showcase for digital wizardry AND NOTHING ELSE. The writing is horrid. I can\\'t remember when I\\'ve heard such bad dialogue. The songs are beyond wretched. The acting is sub-par but then the actors were not given much. Who decided to employ Joey Fatone? He cannot sing and he is ugly as sin.<br /><br />The worst thing is the obviousness of it all. It is as if the writers went out of their way to make it all as stupid as possible. Great children\\'s movies are wicked, smart and full of wit - films like Shrek and Toy Story in recent years, Willie Wonka and The Witches to mention two of the past. But in the continual dumbing-down of American more are flocking to dreck like Finding Nemo (yes, that\\'s right), the recent Charlie & The Chocolate Factory and eye-crossing trash like Red Riding Hood.',\n",
              "       b\"I absolutely LOVED this movie when I was a kid. I cried every time I watched it. It wasn't weird to me. I totally identified with the characters. I would love to see it again (and hope I wont be disappointed!). Pufnstuf rocks!!!! I was really drawn in to the fantasy world. And to me the movie was loooong. I wonder if I ever saw the series and have confused them? The acting I thought was strong. I loved Jack Wilde. He was so dreamy to an 10 year old (when I first saw the movie, not in 1970. I can still remember the characters vividly. The flute was totally believable and I can still 'feel' the evil woods. Witchy poo was scary - I wouldn't want to cross her path.\",\n",
              "       b'A very close and sharp discription of the bubbling and dynamic emotional world of specialy one 18year old guy, that makes his first experiences in his gay love to an other boy, during an vacation with a part of his family.<br /><br />I liked this film because of his extremly clear and surrogated storytelling , with all this \"Sound-close-ups\" and quiet moments wich had been full of intensive moods.<br /><br />',\n",
              "       b\"This is the most depressing film I have ever seen. I first saw it as a child and even thinking about it now really upsets me. I know it was set in a time when life was hard and I know these people were poor and the crops were vital. Yes, I get all that. What I find hard to take is I can't remember one single light moment in the entire film. Maybe it was true to life, I don't know. I'm quite sure the acting was top notch and the direction and quality of filming etc etc was wonderful and I know that every film can't have a happy ending but as a family film it is dire in my opinion.<br /><br />I wouldn't recommend it to anyone who wants to be entertained by a film. I can't stress enough how this film affected me as a child. I was talking about it recently and all the sad memories came flooding back. I think it would have all but the heartless reaching for the Prozac.\"],\n",
              "      dtype=object)>"
            ]
          },
          "metadata": {
            "tags": []
          },
          "execution_count": 10
        }
      ]
    },
    {
      "cell_type": "code",
      "metadata": {
        "id": "bfS-BZMVkxaA",
        "colab_type": "code",
        "colab": {
          "base_uri": "https://localhost:8080/",
          "height": 34
        },
        "outputId": "81288217-40c5-4c79-f39b-fbebb9b01c78"
      },
      "source": [
        "train_labels"
      ],
      "execution_count": 11,
      "outputs": [
        {
          "output_type": "execute_result",
          "data": {
            "text/plain": [
              "<tf.Tensor: id=460, shape=(10,), dtype=int64, numpy=array([1, 1, 1, 1, 1, 1, 0, 1, 1, 0])>"
            ]
          },
          "metadata": {
            "tags": []
          },
          "execution_count": 11
        }
      ]
    },
    {
      "cell_type": "markdown",
      "metadata": {
        "id": "rh5lE6l-mmsp",
        "colab_type": "text"
      },
      "source": [
        "## 👩‍🔧 Data Preparation (pre-processing)\n",
        "\n",
        "### 🎳 Prepare word embeddings\n",
        "> To represent words "
      ]
    },
    {
      "cell_type": "code",
      "metadata": {
        "id": "jzCqPyLemUa7",
        "colab_type": "code",
        "colab": {}
      },
      "source": [
        "embeddings = \"https://tfhub.dev/google/tf2-preview/gnews-swivel-20dim/1\"\n",
        "emb_layer = tfhub.KerasLayer(\n",
        "    embeddings, \n",
        "    input_shape=[], \n",
        "    dtype = tf.string, \n",
        "    trainable=True)"
      ],
      "execution_count": 0,
      "outputs": []
    },
    {
      "cell_type": "code",
      "metadata": {
        "id": "Z1sFICDVm90T",
        "colab_type": "code",
        "colab": {
          "base_uri": "https://localhost:8080/",
          "height": 187
        },
        "outputId": "1e924548-4554-4a01-aa5f-9d0741d273f6"
      },
      "source": [
        "# explore embeddings\n",
        "emb_layer(train_examples[:2])"
      ],
      "execution_count": 17,
      "outputs": [
        {
          "output_type": "execute_result",
          "data": {
            "text/plain": [
              "<tf.Tensor: id=651, shape=(2, 20), dtype=float32, numpy=\n",
              "array([[ 3.9819887 , -4.4838037 ,  5.177359  , -2.3643482 , -3.2938678 ,\n",
              "        -3.5364532 , -2.4786978 ,  2.5525482 ,  6.688532  , -2.3076782 ,\n",
              "        -1.9807833 ,  1.1315885 , -3.0339816 , -0.7604128 , -5.743445  ,\n",
              "         3.4242578 ,  4.790099  , -4.03061   , -5.992149  , -1.7297493 ],\n",
              "       [ 3.4232912 , -4.230874  ,  4.1488533 , -0.29553518, -6.802391  ,\n",
              "        -2.5163853 , -4.4002395 ,  1.905792  ,  4.7512794 , -0.40538004,\n",
              "        -4.3401685 ,  1.0361497 ,  0.9744097 ,  0.71507156, -6.2657013 ,\n",
              "         0.16533905,  4.560262  , -1.3106939 , -3.1121316 , -2.1338716 ]],\n",
              "      dtype=float32)>"
            ]
          },
          "metadata": {
            "tags": []
          },
          "execution_count": 17
        }
      ]
    },
    {
      "cell_type": "markdown",
      "metadata": {
        "id": "mDDmFNxPnoVk",
        "colab_type": "text"
      },
      "source": [
        "## 👩‍💻 Model Designing\n",
        "### 🧱 Make layers design\n",
        "- Number of layers and number of units in each layer\n",
        "- Activation function of each layer"
      ]
    },
    {
      "cell_type": "code",
      "metadata": {
        "id": "MLmRZua2nhC9",
        "colab_type": "code",
        "colab": {}
      },
      "source": [
        "layers = [\n",
        "          emb_layer,\n",
        "          Dense(16, activation='relu'),\n",
        "          Dense(1, activation='sigmoid')\n",
        "]"
      ],
      "execution_count": 0,
      "outputs": []
    },
    {
      "cell_type": "markdown",
      "metadata": {
        "id": "gx6AHrBvok0C",
        "colab_type": "text"
      },
      "source": [
        "### 🚀 Implement your design"
      ]
    },
    {
      "cell_type": "code",
      "metadata": {
        "id": "CTmPkXuioSWe",
        "colab_type": "code",
        "colab": {}
      },
      "source": [
        "model = Sequential(layers)"
      ],
      "execution_count": 0,
      "outputs": []
    },
    {
      "cell_type": "code",
      "metadata": {
        "id": "fNp94tQ4oZEd",
        "colab_type": "code",
        "colab": {
          "base_uri": "https://localhost:8080/",
          "height": 255
        },
        "outputId": "e9f2935e-4ae2-437b-d418-85f0c7b062dc"
      },
      "source": [
        "model.summary()"
      ],
      "execution_count": 23,
      "outputs": [
        {
          "output_type": "stream",
          "text": [
            "Model: \"sequential\"\n",
            "_________________________________________________________________\n",
            "Layer (type)                 Output Shape              Param #   \n",
            "=================================================================\n",
            "keras_layer (KerasLayer)     (None, 20)                400020    \n",
            "_________________________________________________________________\n",
            "dense (Dense)                (None, 16)                336       \n",
            "_________________________________________________________________\n",
            "dense_1 (Dense)              (None, 1)                 17        \n",
            "=================================================================\n",
            "Total params: 400,373\n",
            "Trainable params: 400,373\n",
            "Non-trainable params: 0\n",
            "_________________________________________________________________\n"
          ],
          "name": "stdout"
        }
      ]
    },
    {
      "cell_type": "code",
      "metadata": {
        "id": "J2HQVs_3obQB",
        "colab_type": "code",
        "colab": {}
      },
      "source": [
        "model.compile(optimizer='adam', \n",
        "              loss='binary_crossentropy',\n",
        "              metrics=['accuracy'])"
      ],
      "execution_count": 0,
      "outputs": []
    },
    {
      "cell_type": "markdown",
      "metadata": {
        "id": "lRXKi6TYo48L",
        "colab_type": "text"
      },
      "source": [
        "## 🤓 Training\n",
        "- Keras .fit() [details](https://keras.io/models/model/#fit)"
      ]
    },
    {
      "cell_type": "code",
      "metadata": {
        "id": "f-Qk3bNFoy9J",
        "colab_type": "code",
        "colab": {
          "base_uri": "https://localhost:8080/",
          "height": 714
        },
        "outputId": "5cee5506-a828-4d33-db07-4344a3d450e1"
      },
      "source": [
        "model.fit(train.shuffle(10000).batch(512),\n",
        "          epochs=20,\n",
        "          validation_data=val.batch(512))"
      ],
      "execution_count": 27,
      "outputs": [
        {
          "output_type": "stream",
          "text": [
            "Epoch 1/20\n",
            "30/30 [==============================] - 9s 289ms/step - loss: 0.5552 - acc: 0.7235 - val_loss: 0.0000e+00 - val_acc: 0.0000e+00\n",
            "Epoch 2/20\n",
            "30/30 [==============================] - 8s 283ms/step - loss: 0.5321 - acc: 0.7439 - val_loss: 0.5351 - val_acc: 0.7409\n",
            "Epoch 3/20\n",
            "30/30 [==============================] - 9s 287ms/step - loss: 0.5063 - acc: 0.7632 - val_loss: 0.5132 - val_acc: 0.7566\n",
            "Epoch 4/20\n",
            "30/30 [==============================] - 8s 282ms/step - loss: 0.4794 - acc: 0.7843 - val_loss: 0.4882 - val_acc: 0.7739\n",
            "Epoch 5/20\n",
            "30/30 [==============================] - 9s 292ms/step - loss: 0.4475 - acc: 0.8043 - val_loss: 0.4638 - val_acc: 0.7887\n",
            "Epoch 6/20\n",
            "30/30 [==============================] - 9s 287ms/step - loss: 0.4173 - acc: 0.8225 - val_loss: 0.4408 - val_acc: 0.8022\n",
            "Epoch 7/20\n",
            "30/30 [==============================] - 9s 290ms/step - loss: 0.3880 - acc: 0.8383 - val_loss: 0.4196 - val_acc: 0.8127\n",
            "Epoch 8/20\n",
            "30/30 [==============================] - 9s 289ms/step - loss: 0.3605 - acc: 0.8523 - val_loss: 0.3997 - val_acc: 0.8237\n",
            "Epoch 9/20\n",
            "30/30 [==============================] - 9s 289ms/step - loss: 0.3348 - acc: 0.8661 - val_loss: 0.3820 - val_acc: 0.8327\n",
            "Epoch 10/20\n",
            "30/30 [==============================] - 9s 293ms/step - loss: 0.3112 - acc: 0.8795 - val_loss: 0.3671 - val_acc: 0.8397\n",
            "Epoch 11/20\n",
            "30/30 [==============================] - 9s 287ms/step - loss: 0.2898 - acc: 0.8879 - val_loss: 0.3544 - val_acc: 0.8451\n",
            "Epoch 12/20\n",
            "30/30 [==============================] - 9s 287ms/step - loss: 0.2704 - acc: 0.8967 - val_loss: 0.3437 - val_acc: 0.8510\n",
            "Epoch 13/20\n",
            "30/30 [==============================] - 9s 291ms/step - loss: 0.2528 - acc: 0.9048 - val_loss: 0.3348 - val_acc: 0.8557\n",
            "Epoch 14/20\n",
            "30/30 [==============================] - 9s 304ms/step - loss: 0.2368 - acc: 0.9122 - val_loss: 0.3273 - val_acc: 0.8601\n",
            "Epoch 15/20\n",
            "30/30 [==============================] - 9s 293ms/step - loss: 0.2221 - acc: 0.9178 - val_loss: 0.3212 - val_acc: 0.8627\n",
            "Epoch 16/20\n",
            "30/30 [==============================] - 9s 307ms/step - loss: 0.2086 - acc: 0.9254 - val_loss: 0.3162 - val_acc: 0.8642\n",
            "Epoch 17/20\n",
            "30/30 [==============================] - 9s 306ms/step - loss: 0.1961 - acc: 0.9307 - val_loss: 0.3123 - val_acc: 0.8671\n",
            "Epoch 18/20\n",
            "30/30 [==============================] - 9s 297ms/step - loss: 0.1846 - acc: 0.9352 - val_loss: 0.3093 - val_acc: 0.8698\n",
            "Epoch 19/20\n",
            "30/30 [==============================] - 9s 295ms/step - loss: 0.1738 - acc: 0.9404 - val_loss: 0.3070 - val_acc: 0.8719\n",
            "Epoch 20/20\n",
            "30/30 [==============================] - 9s 298ms/step - loss: 0.1637 - acc: 0.9457 - val_loss: 0.3055 - val_acc: 0.8730\n"
          ],
          "name": "stdout"
        },
        {
          "output_type": "execute_result",
          "data": {
            "text/plain": [
              "<tensorflow.python.keras.callbacks.History at 0x7f43a51527b8>"
            ]
          },
          "metadata": {
            "tags": []
          },
          "execution_count": 27
        }
      ]
    },
    {
      "cell_type": "markdown",
      "metadata": {
        "id": "_Y25Mau1p-N7",
        "colab_type": "text"
      },
      "source": [
        "## 👮‍♀️ Evaluate the model\n",
        "- Keras .evaluate() [details](https://keras.io/models/model/#evaluate)"
      ]
    },
    {
      "cell_type": "code",
      "metadata": {
        "id": "i-er4qavplYt",
        "colab_type": "code",
        "colab": {
          "base_uri": "https://localhost:8080/",
          "height": 34
        },
        "outputId": "e91e2dd9-4907-4328-c498-feb313b97935"
      },
      "source": [
        "loss, acc = model.evaluate(test.batch(512))"
      ],
      "execution_count": 28,
      "outputs": [
        {
          "output_type": "stream",
          "text": [
            "49/49 [==============================] - 6s 123ms/step - loss: 0.3329 - acc: 0.8567\n"
          ],
          "name": "stdout"
        }
      ]
    },
    {
      "cell_type": "code",
      "metadata": {
        "id": "cN0lx_oNqRid",
        "colab_type": "code",
        "colab": {
          "base_uri": "https://localhost:8080/",
          "height": 34
        },
        "outputId": "bde98289-74d7-40a7-b50a-c927e77a9f3a"
      },
      "source": [
        "print('Loss:', loss, 'Accuracy', acc)"
      ],
      "execution_count": 29,
      "outputs": [
        {
          "output_type": "stream",
          "text": [
            "Loss: 0.3329200106007712 Accuracy 0.85672\n"
          ],
          "name": "stdout"
        }
      ]
    }
  ]
}