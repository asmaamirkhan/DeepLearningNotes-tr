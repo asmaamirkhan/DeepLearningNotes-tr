{
  "nbformat": 4,
  "nbformat_minor": 0,
  "metadata": {
    "colab": {
      "name": "6ImageAugmentation.ipynb",
      "version": "0.3.2",
      "provenance": []
    },
    "kernelspec": {
      "name": "python3",
      "display_name": "Python 3"
    },
    "accelerator": "GPU"
  },
  "cells": [
    {
      "cell_type": "code",
      "metadata": {
        "id": "mmRejYvwAQU-",
        "colab_type": "code",
        "colab": {}
      },
      "source": [
        "# author: Asmaa ~ 2019\n",
        "# ----------------------\n",
        "\n",
        "# import libraries\n",
        "import os\n",
        "import zipfile\n",
        "from tensorflow.keras.preprocessing.image import ImageDataGenerator\n",
        "import tensorflow as tf\n",
        "from tensorflow.keras.layers import Conv2D, Dense, MaxPooling2D, Flatten\n",
        "from tensorflow.keras.models import Sequential\n",
        "from tensorflow.keras.optimizers import RMSprop\n",
        "import matplotlib.pyplot as plt"
      ],
      "execution_count": 0,
      "outputs": []
    },
    {
      "cell_type": "markdown",
      "metadata": {
        "id": "yTiFNDigAHU7",
        "colab_type": "text"
      },
      "source": [
        "# Data Prepaeration"
      ]
    },
    {
      "cell_type": "markdown",
      "metadata": {
        "id": "zj4_Lsj3AXVk",
        "colab_type": "text"
      },
      "source": [
        "### Downloading Data"
      ]
    },
    {
      "cell_type": "code",
      "metadata": {
        "id": "x_-902ne_Q4A",
        "colab_type": "code",
        "colab": {
          "base_uri": "https://localhost:8080/",
          "height": 391
        },
        "outputId": "485c54fa-81fa-4cdd-8e95-ec20b4f6fc4d"
      },
      "source": [
        "!wget --no-check-certificate \\\n",
        "    https://storage.googleapis.com/laurencemoroney-blog.appspot.com/horse-or-human.zip \\\n",
        "    -O /tmp/horse-or-human.zip\n",
        "\n",
        "!wget --no-check-certificate \\\n",
        "    https://storage.googleapis.com/laurencemoroney-blog.appspot.com/validation-horse-or-human.zip \\\n",
        "    -O /tmp/validation-horse-or-human.zip"
      ],
      "execution_count": 3,
      "outputs": [
        {
          "output_type": "stream",
          "text": [
            "--2019-08-15 07:43:06--  https://storage.googleapis.com/laurencemoroney-blog.appspot.com/horse-or-human.zip\n",
            "Resolving storage.googleapis.com (storage.googleapis.com)... 66.102.1.128, 2a00:1450:400c:c08::80\n",
            "Connecting to storage.googleapis.com (storage.googleapis.com)|66.102.1.128|:443... connected.\n",
            "HTTP request sent, awaiting response... 200 OK\n",
            "Length: 149574867 (143M) [application/zip]\n",
            "Saving to: ‘/tmp/horse-or-human.zip’\n",
            "\n",
            "/tmp/horse-or-human 100%[===================>] 142.65M  66.6MB/s    in 2.1s    \n",
            "\n",
            "2019-08-15 07:43:09 (66.6 MB/s) - ‘/tmp/horse-or-human.zip’ saved [149574867/149574867]\n",
            "\n",
            "--2019-08-15 07:43:10--  https://storage.googleapis.com/laurencemoroney-blog.appspot.com/validation-horse-or-human.zip\n",
            "Resolving storage.googleapis.com (storage.googleapis.com)... 173.194.76.128, 2a00:1450:400c:c00::80\n",
            "Connecting to storage.googleapis.com (storage.googleapis.com)|173.194.76.128|:443... connected.\n",
            "HTTP request sent, awaiting response... 200 OK\n",
            "Length: 11480187 (11M) [application/zip]\n",
            "Saving to: ‘/tmp/validation-horse-or-human.zip’\n",
            "\n",
            "/tmp/validation-hor 100%[===================>]  10.95M  36.2MB/s    in 0.3s    \n",
            "\n",
            "2019-08-15 07:43:11 (36.2 MB/s) - ‘/tmp/validation-horse-or-human.zip’ saved [11480187/11480187]\n",
            "\n"
          ],
          "name": "stdout"
        }
      ]
    },
    {
      "cell_type": "code",
      "metadata": {
        "id": "MqnTPgEKAZ9m",
        "colab_type": "code",
        "colab": {}
      },
      "source": [
        "# extracting zip files\n",
        "local_zip = '/tmp/horse-or-human.zip'\n",
        "zip_ref = zipfile.ZipFile(local_zip, 'r')\n",
        "zip_ref.extractall('/tmp/horse-or-human')\n",
        "local_zip = '/tmp/validation-horse-or-human.zip'\n",
        "zip_ref = zipfile.ZipFile(local_zip, 'r')\n",
        "zip_ref.extractall('/tmp/validation-horse-or-human')\n",
        "zip_ref.close()"
      ],
      "execution_count": 0,
      "outputs": []
    },
    {
      "cell_type": "code",
      "metadata": {
        "id": "-J2cL5pVAtNF",
        "colab_type": "code",
        "colab": {}
      },
      "source": [
        "# setting image directories to variables\n",
        "train_horse_dir = os.path.join('/tmp/horse-or-human/horses')\n",
        "\n",
        "train_human_dir = os.path.join('/tmp/horse-or-human/humans')\n",
        "\n",
        "validation_horse_dir = os.path.join('/tmp/validation-horse-or-human/horses')\n",
        "\n",
        "validation_human_dir = os.path.join('/tmp/validation-horse-or-human/humans')"
      ],
      "execution_count": 0,
      "outputs": []
    },
    {
      "cell_type": "markdown",
      "metadata": {
        "id": "qQEZ6f66BQBz",
        "colab_type": "text"
      },
      "source": [
        "# Pre-processing"
      ]
    },
    {
      "cell_type": "code",
      "metadata": {
        "id": "EBWYsuzKA5s4",
        "colab_type": "code",
        "colab": {}
      },
      "source": [
        "# setting scaling and augmentation parameters for trainig set\n",
        "train_datagenerator = ImageDataGenerator( rescale=1./255, rotation_range=40, width_shift_range=0.2,\n",
        "      height_shift_range=0.2, shear_range=0.2, zoom_range=0.2, horizontal_flip=True, fill_mode='nearest')\n"
      ],
      "execution_count": 0,
      "outputs": []
    },
    {
      "cell_type": "code",
      "metadata": {
        "id": "isA9iNxrBhFB",
        "colab_type": "code",
        "colab": {}
      },
      "source": [
        "# rescaling test set\n",
        "val_datagenerator = ImageDataGenerator(rescale=1/255)"
      ],
      "execution_count": 0,
      "outputs": []
    },
    {
      "cell_type": "code",
      "metadata": {
        "id": "3ipJvuOoBufb",
        "colab_type": "code",
        "colab": {
          "base_uri": "https://localhost:8080/",
          "height": 51
        },
        "outputId": "c6a4d547-1b08-4035-beea-3acdf90e7efa"
      },
      "source": [
        "# flow tarining images from directory and resize images to 300x300 and set classification mode\n",
        "train_generator = train_datagenerator.flow_from_directory(\n",
        "        '/tmp/horse-or-human/', target_size=(300, 300), batch_size=128, class_mode='binary')\n",
        "\n",
        "validation_generator = val_datagenerator.flow_from_directory(\n",
        "        '/tmp/validation-horse-or-human/',  target_size=(300, 300), batch_size=32, class_mode='binary')"
      ],
      "execution_count": 8,
      "outputs": [
        {
          "output_type": "stream",
          "text": [
            "Found 1027 images belonging to 2 classes.\n",
            "Found 256 images belonging to 2 classes.\n"
          ],
          "name": "stdout"
        }
      ]
    },
    {
      "cell_type": "markdown",
      "metadata": {
        "id": "jN1SwoMpCkvI",
        "colab_type": "text"
      },
      "source": [
        "# Building the Model"
      ]
    },
    {
      "cell_type": "markdown",
      "metadata": {
        "id": "TNKGXNayEa7K",
        "colab_type": "text"
      },
      "source": [
        "### Setting the structure"
      ]
    },
    {
      "cell_type": "code",
      "metadata": {
        "id": "W88wc2W0CKPl",
        "colab_type": "code",
        "colab": {}
      },
      "source": [
        "# initialize the model\n",
        "model = Sequential()\n",
        "\n",
        "# add first convolution \n",
        "# images are 300x300px with 3 color channels\n",
        "model.add(Conv2D(16, (3,3), activation='relu', input_shape=(300, 300, 3)))\n",
        "model.add(MaxPooling2D(2,2))\n",
        "\n",
        "# add second convolution\n",
        "model.add(Conv2D(32, (3,3), activation='relu'))\n",
        "model.add(MaxPooling2D(2,2))\n",
        "\n",
        "# add third convolution\n",
        "model.add(Conv2D(64, (3,3), activation='relu'))\n",
        "model.add(MaxPooling2D(2,2))\n",
        "\n",
        "# add fourth convolution\n",
        "model.add(Conv2D(64, (3,3), activation='relu'))\n",
        "model.add(MaxPooling2D(2,2))\n",
        "\n",
        "# add fifth convolution\n",
        "model.add(Conv2D(64, (3,3), activation='relu'))\n",
        "model.add(MaxPooling2D(2,2))\n",
        "\n",
        "# flatten last output and feed it to DNN\n",
        "model.add(Flatten())\n",
        "\n",
        "# add a hidden layer\n",
        "model.add(Dense(512, activation='relu'))\n",
        "\n",
        "# add output layer, it is a binary classification problem \n",
        "model.add(Dense(1, activation='sigmoid'))"
      ],
      "execution_count": 0,
      "outputs": []
    },
    {
      "cell_type": "markdown",
      "metadata": {
        "id": "oXlU4vftEeGK",
        "colab_type": "text"
      },
      "source": [
        "### Compiling the Model"
      ]
    },
    {
      "cell_type": "code",
      "metadata": {
        "id": "8_51dI8fDBKZ",
        "colab_type": "code",
        "colab": {
          "base_uri": "https://localhost:8080/",
          "height": 88
        },
        "outputId": "f81026d1-59d0-4ba3-d521-c059269d32fe"
      },
      "source": [
        "# compile the model after setting functional properties\n",
        "model.compile(loss='binary_crossentropy', optimizer=RMSprop(lr=1e-4), metrics=['acc'])"
      ],
      "execution_count": 10,
      "outputs": [
        {
          "output_type": "stream",
          "text": [
            "W0815 07:43:32.834729 140181656041344 deprecation.py:323] From /usr/local/lib/python3.6/dist-packages/tensorflow/python/ops/nn_impl.py:180: add_dispatch_support.<locals>.wrapper (from tensorflow.python.ops.array_ops) is deprecated and will be removed in a future version.\n",
            "Instructions for updating:\n",
            "Use tf.where in 2.0, which has the same broadcast rule as np.where\n"
          ],
          "name": "stderr"
        }
      ]
    },
    {
      "cell_type": "code",
      "metadata": {
        "id": "Y6t3czy9EngE",
        "colab_type": "code",
        "colab": {
          "base_uri": "https://localhost:8080/",
          "height": 1000
        },
        "outputId": "c99615da-1a18-478a-d3de-c102b5cc7120"
      },
      "source": [
        "fitting = model.fit_generator( train_generator, steps_per_epoch=8, epochs=100, verbose=1,\n",
        "      validation_data = validation_generator, validation_steps=8)"
      ],
      "execution_count": 11,
      "outputs": [
        {
          "output_type": "stream",
          "text": [
            "Epoch 1/100\n",
            "8/8 [==============================] - 30s 4s/step - loss: 0.6983 - acc: 0.5150 - val_loss: 0.6766 - val_acc: 0.5000\n",
            "Epoch 2/100\n",
            "8/8 [==============================] - 30s 4s/step - loss: 0.6800 - acc: 0.5506 - val_loss: 0.6836 - val_acc: 0.5000\n",
            "Epoch 3/100\n",
            "8/8 [==============================] - 34s 4s/step - loss: 0.6688 - acc: 0.5996 - val_loss: 0.6436 - val_acc: 0.5977\n",
            "Epoch 4/100\n",
            "8/8 [==============================] - 30s 4s/step - loss: 0.6577 - acc: 0.6274 - val_loss: 0.6103 - val_acc: 0.7148\n",
            "Epoch 5/100\n",
            "8/8 [==============================] - 30s 4s/step - loss: 0.6360 - acc: 0.6674 - val_loss: 0.5950 - val_acc: 0.6914\n",
            "Epoch 6/100\n",
            "8/8 [==============================] - 30s 4s/step - loss: 0.6336 - acc: 0.7186 - val_loss: 0.5721 - val_acc: 0.6992\n",
            "Epoch 7/100\n",
            "8/8 [==============================] - 30s 4s/step - loss: 0.6215 - acc: 0.7075 - val_loss: 0.6111 - val_acc: 0.5781\n",
            "Epoch 8/100\n",
            "8/8 [==============================] - 30s 4s/step - loss: 0.6501 - acc: 0.6785 - val_loss: 0.5869 - val_acc: 0.6172\n",
            "Epoch 9/100\n",
            "8/8 [==============================] - 30s 4s/step - loss: 0.5731 - acc: 0.7742 - val_loss: 0.4807 - val_acc: 0.8047\n",
            "Epoch 10/100\n",
            "8/8 [==============================] - 34s 4s/step - loss: 0.5656 - acc: 0.7324 - val_loss: 0.5268 - val_acc: 0.7031\n",
            "Epoch 11/100\n",
            "8/8 [==============================] - 27s 3s/step - loss: 0.5020 - acc: 0.7506 - val_loss: 0.4840 - val_acc: 0.7461\n",
            "Epoch 12/100\n",
            "8/8 [==============================] - 30s 4s/step - loss: 0.5564 - acc: 0.7164 - val_loss: 0.5285 - val_acc: 0.7070\n",
            "Epoch 13/100\n",
            "8/8 [==============================] - 30s 4s/step - loss: 0.4914 - acc: 0.7653 - val_loss: 0.4154 - val_acc: 0.8125\n",
            "Epoch 14/100\n",
            "8/8 [==============================] - 29s 4s/step - loss: 0.5366 - acc: 0.7253 - val_loss: 0.6449 - val_acc: 0.6406\n",
            "Epoch 15/100\n",
            "8/8 [==============================] - 34s 4s/step - loss: 0.4866 - acc: 0.7812 - val_loss: 0.4650 - val_acc: 0.7734\n",
            "Epoch 16/100\n",
            "8/8 [==============================] - 29s 4s/step - loss: 0.4796 - acc: 0.7353 - val_loss: 0.5680 - val_acc: 0.7227\n",
            "Epoch 17/100\n",
            "8/8 [==============================] - 30s 4s/step - loss: 0.4512 - acc: 0.7820 - val_loss: 0.5697 - val_acc: 0.7227\n",
            "Epoch 18/100\n",
            "8/8 [==============================] - 30s 4s/step - loss: 0.4617 - acc: 0.7831 - val_loss: 0.7287 - val_acc: 0.6602\n",
            "Epoch 19/100\n",
            "8/8 [==============================] - 30s 4s/step - loss: 0.4089 - acc: 0.7875 - val_loss: 1.1353 - val_acc: 0.5820\n",
            "Epoch 20/100\n",
            "8/8 [==============================] - 30s 4s/step - loss: 0.4475 - acc: 0.7953 - val_loss: 0.8031 - val_acc: 0.6797\n",
            "Epoch 21/100\n",
            "8/8 [==============================] - 33s 4s/step - loss: 0.4469 - acc: 0.7900 - val_loss: 1.1005 - val_acc: 0.5977\n",
            "Epoch 22/100\n",
            "8/8 [==============================] - 26s 3s/step - loss: 0.5004 - acc: 0.7687 - val_loss: 0.9708 - val_acc: 0.6250\n",
            "Epoch 23/100\n",
            "8/8 [==============================] - 34s 4s/step - loss: 0.4044 - acc: 0.8320 - val_loss: 1.0375 - val_acc: 0.6328\n",
            "Epoch 24/100\n",
            "8/8 [==============================] - 30s 4s/step - loss: 0.3589 - acc: 0.8498 - val_loss: 1.0406 - val_acc: 0.6562\n",
            "Epoch 25/100\n",
            "8/8 [==============================] - 30s 4s/step - loss: 0.4567 - acc: 0.7731 - val_loss: 0.9346 - val_acc: 0.6836\n",
            "Epoch 26/100\n",
            "8/8 [==============================] - 25s 3s/step - loss: 0.3453 - acc: 0.8295 - val_loss: 0.7795 - val_acc: 0.7422\n",
            "Epoch 27/100\n",
            "8/8 [==============================] - 34s 4s/step - loss: 0.3842 - acc: 0.8252 - val_loss: 1.2616 - val_acc: 0.6250\n",
            "Epoch 28/100\n",
            "8/8 [==============================] - 30s 4s/step - loss: 0.4474 - acc: 0.8198 - val_loss: 1.1525 - val_acc: 0.6562\n",
            "Epoch 29/100\n",
            "8/8 [==============================] - 34s 4s/step - loss: 0.3746 - acc: 0.8350 - val_loss: 1.1677 - val_acc: 0.6484\n",
            "Epoch 30/100\n",
            "8/8 [==============================] - 26s 3s/step - loss: 0.3825 - acc: 0.8140 - val_loss: 0.9279 - val_acc: 0.7031\n",
            "Epoch 31/100\n",
            "8/8 [==============================] - 34s 4s/step - loss: 0.3624 - acc: 0.8447 - val_loss: 1.1542 - val_acc: 0.6641\n",
            "Epoch 32/100\n",
            "8/8 [==============================] - 30s 4s/step - loss: 0.3408 - acc: 0.8543 - val_loss: 1.5895 - val_acc: 0.5820\n",
            "Epoch 33/100\n",
            "8/8 [==============================] - 30s 4s/step - loss: 0.3475 - acc: 0.8309 - val_loss: 1.1497 - val_acc: 0.6641\n",
            "Epoch 34/100\n",
            "8/8 [==============================] - 29s 4s/step - loss: 0.2778 - acc: 0.8699 - val_loss: 1.4714 - val_acc: 0.6289\n",
            "Epoch 35/100\n",
            "8/8 [==============================] - 29s 4s/step - loss: 0.3825 - acc: 0.8231 - val_loss: 1.1184 - val_acc: 0.6758\n",
            "Epoch 36/100\n",
            "8/8 [==============================] - 30s 4s/step - loss: 0.3257 - acc: 0.8576 - val_loss: 1.3454 - val_acc: 0.6523\n",
            "Epoch 37/100\n",
            "8/8 [==============================] - 33s 4s/step - loss: 0.3528 - acc: 0.8457 - val_loss: 1.1830 - val_acc: 0.6562\n",
            "Epoch 38/100\n",
            "8/8 [==============================] - 31s 4s/step - loss: 0.3159 - acc: 0.8699 - val_loss: 1.5487 - val_acc: 0.6289\n",
            "Epoch 39/100\n",
            "8/8 [==============================] - 25s 3s/step - loss: 0.3381 - acc: 0.8501 - val_loss: 1.7136 - val_acc: 0.6406\n",
            "Epoch 40/100\n",
            "8/8 [==============================] - 34s 4s/step - loss: 0.3513 - acc: 0.8486 - val_loss: 1.2834 - val_acc: 0.6406\n",
            "Epoch 41/100\n",
            "8/8 [==============================] - 25s 3s/step - loss: 0.2545 - acc: 0.8773 - val_loss: 1.2080 - val_acc: 0.6758\n",
            "Epoch 42/100\n",
            "8/8 [==============================] - 33s 4s/step - loss: 0.2958 - acc: 0.8701 - val_loss: 2.0754 - val_acc: 0.5898\n",
            "Epoch 43/100\n",
            "8/8 [==============================] - 29s 4s/step - loss: 0.2675 - acc: 0.8843 - val_loss: 0.8204 - val_acc: 0.7266\n",
            "Epoch 44/100\n",
            "8/8 [==============================] - 29s 4s/step - loss: 0.2750 - acc: 0.8754 - val_loss: 1.1127 - val_acc: 0.7148\n",
            "Epoch 45/100\n",
            "8/8 [==============================] - 29s 4s/step - loss: 0.2790 - acc: 0.8754 - val_loss: 1.1755 - val_acc: 0.7148\n",
            "Epoch 46/100\n",
            "8/8 [==============================] - 29s 4s/step - loss: 0.2767 - acc: 0.8765 - val_loss: 1.7212 - val_acc: 0.6094\n",
            "Epoch 47/100\n",
            "8/8 [==============================] - 29s 4s/step - loss: 0.2369 - acc: 0.8932 - val_loss: 1.3710 - val_acc: 0.6719\n",
            "Epoch 48/100\n",
            "8/8 [==============================] - 33s 4s/step - loss: 0.3003 - acc: 0.8848 - val_loss: 1.3033 - val_acc: 0.6797\n",
            "Epoch 49/100\n",
            "8/8 [==============================] - 29s 4s/step - loss: 0.3021 - acc: 0.8721 - val_loss: 1.6522 - val_acc: 0.6484\n",
            "Epoch 50/100\n",
            "8/8 [==============================] - 29s 4s/step - loss: 0.2310 - acc: 0.9010 - val_loss: 2.1034 - val_acc: 0.6133\n",
            "Epoch 51/100\n",
            "8/8 [==============================] - 29s 4s/step - loss: 0.2516 - acc: 0.8843 - val_loss: 1.4030 - val_acc: 0.6719\n",
            "Epoch 52/100\n",
            "8/8 [==============================] - 25s 3s/step - loss: 0.2461 - acc: 0.8669 - val_loss: 2.4327 - val_acc: 0.6055\n",
            "Epoch 53/100\n",
            "8/8 [==============================] - 34s 4s/step - loss: 0.2323 - acc: 0.9141 - val_loss: 2.0122 - val_acc: 0.6406\n",
            "Epoch 54/100\n",
            "8/8 [==============================] - 29s 4s/step - loss: 0.2466 - acc: 0.8921 - val_loss: 1.3740 - val_acc: 0.6914\n",
            "Epoch 55/100\n",
            "8/8 [==============================] - 29s 4s/step - loss: 0.2437 - acc: 0.8877 - val_loss: 1.5956 - val_acc: 0.6719\n",
            "Epoch 56/100\n",
            "8/8 [==============================] - 29s 4s/step - loss: 0.2510 - acc: 0.9255 - val_loss: 0.1802 - val_acc: 0.9336\n",
            "Epoch 57/100\n",
            "8/8 [==============================] - 29s 4s/step - loss: 0.4347 - acc: 0.8532 - val_loss: 2.0109 - val_acc: 0.6328\n",
            "Epoch 58/100\n",
            "8/8 [==============================] - 33s 4s/step - loss: 0.2069 - acc: 0.9141 - val_loss: 2.1071 - val_acc: 0.6328\n",
            "Epoch 59/100\n",
            "8/8 [==============================] - 29s 4s/step - loss: 0.1893 - acc: 0.9266 - val_loss: 2.5602 - val_acc: 0.6172\n",
            "Epoch 60/100\n",
            "8/8 [==============================] - 24s 3s/step - loss: 0.3203 - acc: 0.8734 - val_loss: 1.9233 - val_acc: 0.6172\n",
            "Epoch 61/100\n",
            "8/8 [==============================] - 31s 4s/step - loss: 0.2294 - acc: 0.9032 - val_loss: 2.3812 - val_acc: 0.6172\n",
            "Epoch 62/100\n",
            "8/8 [==============================] - 34s 4s/step - loss: 0.1979 - acc: 0.9248 - val_loss: 2.0474 - val_acc: 0.6445\n",
            "Epoch 63/100\n",
            "8/8 [==============================] - 30s 4s/step - loss: 0.2288 - acc: 0.8988 - val_loss: 2.9821 - val_acc: 0.5547\n",
            "Epoch 64/100\n",
            "8/8 [==============================] - 30s 4s/step - loss: 0.1918 - acc: 0.9188 - val_loss: 2.6001 - val_acc: 0.6172\n",
            "Epoch 65/100\n",
            "8/8 [==============================] - 33s 4s/step - loss: 0.2461 - acc: 0.8926 - val_loss: 2.5051 - val_acc: 0.6055\n",
            "Epoch 66/100\n",
            "8/8 [==============================] - 30s 4s/step - loss: 0.1611 - acc: 0.9366 - val_loss: 2.3387 - val_acc: 0.6367\n",
            "Epoch 67/100\n",
            "8/8 [==============================] - 26s 3s/step - loss: 0.2912 - acc: 0.8863 - val_loss: 0.9264 - val_acc: 0.7539\n",
            "Epoch 68/100\n",
            "8/8 [==============================] - 34s 4s/step - loss: 0.2028 - acc: 0.9229 - val_loss: 2.0178 - val_acc: 0.6680\n",
            "Epoch 69/100\n",
            "8/8 [==============================] - 30s 4s/step - loss: 0.2008 - acc: 0.9121 - val_loss: 2.1749 - val_acc: 0.6484\n",
            "Epoch 70/100\n",
            "8/8 [==============================] - 30s 4s/step - loss: 0.1941 - acc: 0.9121 - val_loss: 3.1189 - val_acc: 0.5469\n",
            "Epoch 71/100\n",
            "8/8 [==============================] - 30s 4s/step - loss: 0.1666 - acc: 0.9333 - val_loss: 2.3321 - val_acc: 0.6445\n",
            "Epoch 72/100\n",
            "8/8 [==============================] - 30s 4s/step - loss: 0.1752 - acc: 0.9143 - val_loss: 0.8197 - val_acc: 0.7695\n",
            "Epoch 73/100\n",
            "8/8 [==============================] - 33s 4s/step - loss: 0.1998 - acc: 0.9180 - val_loss: 2.2436 - val_acc: 0.6445\n",
            "Epoch 74/100\n",
            "8/8 [==============================] - 31s 4s/step - loss: 0.2844 - acc: 0.9043 - val_loss: 2.2537 - val_acc: 0.6406\n",
            "Epoch 75/100\n",
            "8/8 [==============================] - 30s 4s/step - loss: 0.1751 - acc: 0.9422 - val_loss: 2.4086 - val_acc: 0.6523\n",
            "Epoch 76/100\n",
            "8/8 [==============================] - 26s 3s/step - loss: 0.1721 - acc: 0.9238 - val_loss: 1.2011 - val_acc: 0.7227\n",
            "Epoch 77/100\n",
            "8/8 [==============================] - 30s 4s/step - loss: 0.1612 - acc: 0.9399 - val_loss: 2.3848 - val_acc: 0.6445\n",
            "Epoch 78/100\n",
            "8/8 [==============================] - 30s 4s/step - loss: 0.1936 - acc: 0.9143 - val_loss: 2.7548 - val_acc: 0.6211\n",
            "Epoch 79/100\n",
            "8/8 [==============================] - 34s 4s/step - loss: 0.1646 - acc: 0.9365 - val_loss: 3.1867 - val_acc: 0.5938\n",
            "Epoch 80/100\n",
            "8/8 [==============================] - 30s 4s/step - loss: 0.1912 - acc: 0.9199 - val_loss: 1.9004 - val_acc: 0.6719\n",
            "Epoch 81/100\n",
            "8/8 [==============================] - 30s 4s/step - loss: 0.1176 - acc: 0.9611 - val_loss: 1.9241 - val_acc: 0.6836\n",
            "Epoch 82/100\n",
            "8/8 [==============================] - 30s 4s/step - loss: 0.2233 - acc: 0.9266 - val_loss: 2.6071 - val_acc: 0.6289\n",
            "Epoch 83/100\n",
            "8/8 [==============================] - 30s 4s/step - loss: 0.1553 - acc: 0.9388 - val_loss: 4.6904 - val_acc: 0.5391\n",
            "Epoch 84/100\n",
            "8/8 [==============================] - 34s 4s/step - loss: 0.1702 - acc: 0.9307 - val_loss: 2.7973 - val_acc: 0.6211\n",
            "Epoch 85/100\n",
            "8/8 [==============================] - 26s 3s/step - loss: 0.1277 - acc: 0.9328 - val_loss: 1.1174 - val_acc: 0.7578\n",
            "Epoch 86/100\n",
            "8/8 [==============================] - 34s 4s/step - loss: 0.1871 - acc: 0.9160 - val_loss: 2.7663 - val_acc: 0.6250\n",
            "Epoch 87/100\n",
            "8/8 [==============================] - 30s 4s/step - loss: 0.1379 - acc: 0.9444 - val_loss: 4.4805 - val_acc: 0.5352\n",
            "Epoch 88/100\n",
            "8/8 [==============================] - 30s 4s/step - loss: 0.1833 - acc: 0.9277 - val_loss: 2.3220 - val_acc: 0.6484\n",
            "Epoch 89/100\n",
            "8/8 [==============================] - 30s 4s/step - loss: 0.1579 - acc: 0.9410 - val_loss: 2.3672 - val_acc: 0.6562\n",
            "Epoch 90/100\n",
            "8/8 [==============================] - 30s 4s/step - loss: 0.1536 - acc: 0.9333 - val_loss: 1.6966 - val_acc: 0.6875\n",
            "Epoch 91/100\n",
            "8/8 [==============================] - 30s 4s/step - loss: 0.1373 - acc: 0.9388 - val_loss: 2.7687 - val_acc: 0.6367\n",
            "Epoch 92/100\n",
            "8/8 [==============================] - 30s 4s/step - loss: 0.1288 - acc: 0.9444 - val_loss: 5.4026 - val_acc: 0.5430\n",
            "Epoch 93/100\n",
            "8/8 [==============================] - 34s 4s/step - loss: 0.2157 - acc: 0.9160 - val_loss: 2.8899 - val_acc: 0.6367\n",
            "Epoch 94/100\n",
            "8/8 [==============================] - 30s 4s/step - loss: 0.1307 - acc: 0.9444 - val_loss: 2.9055 - val_acc: 0.6367\n",
            "Epoch 95/100\n",
            "8/8 [==============================] - 29s 4s/step - loss: 0.1140 - acc: 0.9511 - val_loss: 3.4474 - val_acc: 0.6055\n",
            "Epoch 96/100\n",
            "8/8 [==============================] - 29s 4s/step - loss: 0.1587 - acc: 0.9221 - val_loss: 2.7509 - val_acc: 0.6406\n",
            "Epoch 97/100\n",
            "8/8 [==============================] - 29s 4s/step - loss: 0.0929 - acc: 0.9588 - val_loss: 3.3346 - val_acc: 0.6289\n",
            "Epoch 98/100\n",
            "8/8 [==============================] - 29s 4s/step - loss: 0.1279 - acc: 0.9499 - val_loss: 3.7029 - val_acc: 0.5938\n",
            "Epoch 99/100\n",
            "8/8 [==============================] - 25s 3s/step - loss: 0.1875 - acc: 0.9488 - val_loss: 4.9262 - val_acc: 0.5664\n",
            "Epoch 100/100\n",
            "8/8 [==============================] - 29s 4s/step - loss: 0.1111 - acc: 0.9511 - val_loss: 3.0126 - val_acc: 0.6445\n"
          ],
          "name": "stdout"
        }
      ]
    },
    {
      "cell_type": "markdown",
      "metadata": {
        "id": "-vy9WOPaTSX4",
        "colab_type": "text"
      },
      "source": [
        "# Metrics Visualization"
      ]
    },
    {
      "cell_type": "code",
      "metadata": {
        "id": "2Em_wdc7E4jL",
        "colab_type": "code",
        "colab": {
          "base_uri": "https://localhost:8080/",
          "height": 545
        },
        "outputId": "772afd9d-50a3-4540-cf78-e8e7c0b41924"
      },
      "source": [
        "# get metrics from the model\n",
        "acc = fitting.history['acc']\n",
        "val_acc = fitting.history['val_acc']\n",
        "loss = fitting.history['loss']\n",
        "val_loss = fitting.history['val_loss']\n",
        "\n",
        "epochs = range(len(acc))\n",
        "\n",
        "# plot accuracy\n",
        "plt.plot(epochs, acc, 'r', label='Training accuracy')\n",
        "plt.plot(epochs, val_acc, 'b', label='Validation accuracy')\n",
        "plt.title('Training and validation accuracy')\n",
        "plt.legend()\n",
        "\n",
        "plt.figure()\n",
        "\n",
        "# plot loss\n",
        "plt.plot(epochs, loss, 'r', label='Training Loss')\n",
        "plt.plot(epochs, val_loss, 'b', label='Validation Loss')\n",
        "plt.title('Training and validation loss')\n",
        "plt.legend()\n",
        "\n",
        "plt.show()"
      ],
      "execution_count": 14,
      "outputs": [
        {
          "output_type": "display_data",
          "data": {
            "image/png": "[encoded data removed]",
            "text/plain": [
              "<Figure size 432x288 with 1 Axes>"
            ]
          },
          "metadata": {
            "tags": []
          }
        },
        {
          "output_type": "display_data",
          "data": {
            "image/png": "[encoded data removed]",
            "text/plain": [
              "<Figure size 432x288 with 1 Axes>"
            ]
          },
          "metadata": {
            "tags": []
          }
        }
      ]
    }
  ]
}